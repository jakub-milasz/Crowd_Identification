{
 "cells": [
  {
   "cell_type": "code",
   "execution_count": 232,
   "id": "5597e2fd-32d7-48b3-aa79-cae0d20d8468",
   "metadata": {},
   "outputs": [],
   "source": [
    "import os\n",
    "import numpy as np\n",
    "import cv2\n",
    "import scipy.io\n",
    "import matplotlib.pyplot as plt\n",
    "import shutil\n",
    "from PIL import Image, ImageOps"
   ]
  },
  {
   "cell_type": "code",
   "execution_count": 233,
   "id": "73f7960d-1cd6-435b-b051-f6f1852e3826",
   "metadata": {},
   "outputs": [],
   "source": [
    "def load_dict(image_dir, gt_dir):\n",
    "    image_files = [f for f in os.listdir(image_dir) if f.endswith('.jpg')]\n",
    "    image_files.sort()  # opcjonalnie\n",
    "    counts = []\n",
    "    c = 0\n",
    "    if not image_files:\n",
    "        raise ValueError(\"Brak plików .jpg w podanym katalogu!\")\n",
    "\n",
    "    for img_file in image_files:\n",
    "        img_path = os.path.join(image_dir, img_file)\n",
    "        mat_path = os.path.join(gt_dir, 'GT_' + img_file.replace('.jpg', '.mat'))\n",
    "        img = Image.open(img_path).convert('RGB')\n",
    "        mat = scipy.io.loadmat(mat_path)\n",
    "        count = len(mat['image_info'][0][0][0][0][0])\n",
    "        counts.append(count)\n",
    "        # if c == 0:\n",
    "        #     plt.imshow(img)\n",
    "        #     print(image_files)\n",
    "        #     break\n",
    "        # c += 1\n",
    "    d = dict(zip(image_files, counts))\n",
    "    sorted_dictionary = dict(sorted(d.items(), key=lambda item: item[1]))\n",
    "    return sorted_dictionary"
   ]
  },
  {
   "cell_type": "code",
   "execution_count": 37,
   "id": "70d946c8-7721-4a79-8bc9-3a026b39eed2",
   "metadata": {},
   "outputs": [],
   "source": [
    "train_d = load_dict('ShanghaiTechClass/part_B/train_data/images/', 'ShanghaiTechClass/part_B/train_data/ground-truth/')"
   ]
  },
  {
   "cell_type": "code",
   "execution_count": 39,
   "id": "c0a4849c-e8a1-45b9-9ae5-be85d1e2e2e5",
   "metadata": {},
   "outputs": [],
   "source": [
    "test_d = load_dict('ShanghaiTechClass/part_B/test_data/images/', 'ShanghaiTechClass/part_B/test_data/ground-truth/')"
   ]
  },
  {
   "cell_type": "code",
   "execution_count": 130,
   "id": "167396d0-5f83-41c1-a173-393048443698",
   "metadata": {},
   "outputs": [],
   "source": [
    "def count_thresholds(dictionary, classes):\n",
    "    \"\"\"\n",
    "    Liczymy przedziały dla posortowanych słowników\n",
    "    \"\"\"\n",
    "    border = np.ceil(len(dictionary)/classes)\n",
    "    class_num = 1\n",
    "    th = []\n",
    "    i = 1\n",
    "    for img_file, count in dictionary.items():\n",
    "        if i < class_num * border:\n",
    "            pass\n",
    "        else:\n",
    "            th.append(count)\n",
    "            class_num += 1\n",
    "        i += 1\n",
    "    th.append(count)\n",
    "    return th"
   ]
  },
  {
   "cell_type": "code",
   "execution_count": 175,
   "id": "40782891-b70b-4204-ba2d-b5efd2b77afd",
   "metadata": {},
   "outputs": [],
   "source": [
    "def estimate_optimal_thresholds(d1, d2, classes):\n",
    "    \"\"\"\n",
    "    Wybieramy optymalne przedziały dla train i test\n",
    "    \"\"\"\n",
    "    final_thresholds = []\n",
    "    th1 = count_thresholds(d1, classes)\n",
    "    th2 = count_thresholds(d2, classes)\n",
    "    for i in range(len(th1)-1):\n",
    "        final_thresholds.append(np.ceil((th1[i] + th2[i])/2).astype(int))\n",
    "    final_thresholds.append(max(th1[-1], th2[-1]) + 1)\n",
    "    return final_thresholds"
   ]
  },
  {
   "cell_type": "code",
   "execution_count": 200,
   "id": "26cc5a7c-7925-4a5e-881d-b1a176aa795a",
   "metadata": {},
   "outputs": [],
   "source": [
    "def get_count_of_files_in_folders(d1, d2, for_which, classes):\n",
    "    \"\"\"\n",
    "    Sprawdzanie liczebności poszczególnych klas po zastosowaniu estymowanych progów\n",
    "    \"\"\"\n",
    "    count_of_files = []\n",
    "    counter = 0\n",
    "    class_num = 1\n",
    "    i = 1\n",
    "    th = estimate_optimal_thresholds(d1, d2, classes)\n",
    "    print(th)\n",
    "    for img_file, count in for_which.items():\n",
    "        if count < th[class_num-1]:\n",
    "            counter += 1\n",
    "        else:\n",
    "            count_of_files.append(counter)\n",
    "            counter = 1\n",
    "            class_num += 1\n",
    "        i += 1\n",
    "    count_of_files.append(counter)\n",
    "    return count_of_files"
   ]
  },
  {
   "cell_type": "code",
   "execution_count": 216,
   "id": "848b8cbf-8902-4c1e-85d8-115eda0970e3",
   "metadata": {},
   "outputs": [],
   "source": [
    "def move_files(d1, d2, for_which, src_dir, classes):\n",
    "    \"\"\"\n",
    "    Przerzucamy pliki\n",
    "    \"\"\"\n",
    "    for i in range(1, classes+1):\n",
    "        os.makedirs(f'{src_dir}class{i}', exist_ok=True)\n",
    "    class_num = 1\n",
    "    i = 1\n",
    "    th = estimate_optimal_thresholds(d1, d2, classes)\n",
    "    for img_file, count in for_which.items():\n",
    "        source_file = f'{src_dir}{img_file}'\n",
    "        destination_file = f'{src_dir}class{class_num}/{img_file}'\n",
    "        if count < th[class_num-1]:\n",
    "            shutil.move(source_file, destination_file)\n",
    "        else:\n",
    "            class_num += 1\n",
    "            destination_file = f'{src_dir}/class{class_num}/{img_file}'\n",
    "            shutil.move(source_file, destination_file)\n",
    "        i += 1"
   ]
  },
  {
   "cell_type": "code",
   "execution_count": 230,
   "id": "708e9cd1-a01f-4f52-b4cf-6c3bed7e5978",
   "metadata": {},
   "outputs": [],
   "source": [
    "def move_gt(d1, d2, for_which, src_dir, classes):\n",
    "    \"\"\"\n",
    "    Przerzucamy pliki gt\n",
    "    \"\"\"\n",
    "    for i in range(1, classes+1):\n",
    "        os.makedirs(f'{src_dir}class{i}', exist_ok=True)\n",
    "    class_num = 1\n",
    "    i = 1\n",
    "    th = estimate_optimal_thresholds(d1, d2, classes)\n",
    "    for img_file, count in for_which.items():\n",
    "        mat_file = f'GT_{img_file.replace(\".jpg\", \".mat\")}'\n",
    "        source_file = f'{src_dir}{mat_file}'\n",
    "        destination_file = f'{src_dir}class{class_num}/{mat_file}'\n",
    "        if count < th[class_num-1]:\n",
    "            pass\n",
    "            shutil.move(source_file, destination_file)\n",
    "        else:\n",
    "            class_num += 1\n",
    "            destination_file = f'{src_dir}/class{class_num}/{mat_file}'\n",
    "            shutil.move(source_file, destination_file)\n",
    "        i += 1"
   ]
  },
  {
   "cell_type": "code",
   "execution_count": 227,
   "id": "ae9c1302-2648-4886-a075-7b3fd1e48637",
   "metadata": {},
   "outputs": [],
   "source": [
    "move_gt(train_d, test_d, train_d, 'ShanghaiTechClass/part_B/train_data/ground-truth/', 6)"
   ]
  },
  {
   "cell_type": "code",
   "execution_count": 229,
   "id": "f2355e77-5322-4232-b8ac-745f6d6cbf65",
   "metadata": {},
   "outputs": [],
   "source": [
    "move_gt(train_d, test_d, test_d, 'ShanghaiTechClass/part_B/test_data/ground-truth/', 6)"
   ]
  },
  {
   "cell_type": "code",
   "execution_count": 214,
   "id": "c9e1ce61-5878-4fed-ba66-7972cf9d7b83",
   "metadata": {},
   "outputs": [],
   "source": [
    "move_files(train_d, test_d, train_d, 'ShanghaiTechClass/part_B/train_data/images/', 6)"
   ]
  },
  {
   "cell_type": "code",
   "execution_count": 217,
   "id": "c853c6bb-227f-42d0-b50b-cfc1379ac194",
   "metadata": {},
   "outputs": [],
   "source": [
    "move_files(train_d, test_d, test_d, 'ShanghaiTechClass/part_B/test_data/images/', 6)"
   ]
  }
 ],
 "metadata": {
  "kernelspec": {
   "display_name": "cnn_e",
   "language": "python",
   "name": "cnn_e"
  },
  "language_info": {
   "codemirror_mode": {
    "name": "ipython",
    "version": 3
   },
   "file_extension": ".py",
   "mimetype": "text/x-python",
   "name": "python",
   "nbconvert_exporter": "python",
   "pygments_lexer": "ipython3",
   "version": "3.11.13"
  }
 },
 "nbformat": 4,
 "nbformat_minor": 5
}
