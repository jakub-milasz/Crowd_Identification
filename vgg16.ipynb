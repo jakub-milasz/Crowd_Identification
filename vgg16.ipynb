{
 "cells": [
  {
   "cell_type": "markdown",
   "id": "ea969bd1-0013-49bb-bb11-6b1a0f008fc3",
   "metadata": {},
   "source": [
    "## Importing libraries"
   ]
  },
  {
   "cell_type": "code",
   "execution_count": 1,
   "id": "4f9b7418-2245-4d07-9fc0-5c92a336289b",
   "metadata": {},
   "outputs": [],
   "source": [
    "import os\n",
    "import tensorflow as tf\n",
    "from tensorflow.keras.applications import VGG16\n",
    "from tensorflow.keras.models import Model\n",
    "from tensorflow.keras.layers import Conv2D, UpSampling2D, Input\n",
    "from tensorflow.keras.applications.vgg16 import preprocess_input\n",
    "import cv2\n",
    "import numpy as np\n",
    "import scipy.io\n",
    "from scipy.ndimage import gaussian_filter\n",
    "from scipy.spatial import KDTree\n",
    "import matplotlib.pyplot as plt\n",
    "from tensorflow.keras.preprocessing.image import load_img, img_to_array\n",
    "from tensorflow.keras.preprocessing.image import ImageDataGenerator\n",
    "from tensorflow.keras.optimizers import Adam\n",
    "from tensorflow.keras import layers, models, optimizers\n",
    "from PIL import Image, ImageOps\n",
    "from sklearn.model_selection import train_test_split"
   ]
  },
  {
   "cell_type": "markdown",
   "id": "8cf9df0a-774d-45fd-8f3f-fb3718bf84fe",
   "metadata": {},
   "source": [
    "## Loading and Modifying the VGG16 Model"
   ]
  },
  {
   "cell_type": "code",
   "execution_count": 3,
   "id": "bd680428-02cb-4464-814f-96b23820490b",
   "metadata": {},
   "outputs": [],
   "source": [
    "base_model = VGG16(weights=\"imagenet\", include_top=False, input_shape=(224, 224, 3))\n",
    "base_model.trainable = False ## Not trainable weights\n",
    "\n",
    "model = models.Sequential([\n",
    "    base_model,\n",
    "    layers.Flatten(),\n",
    "    layers.Dense(64, activation='relu'),\n",
    "    layers.Dense(128, activation='relu'),\n",
    "    layers.Dense(256, activation='relu'),\n",
    "    layers.Dense(512, activation='relu'),\n",
    "    layers.Dense(256, activation='relu'),\n",
    "    layers.Dense(128, activation='relu'),\n",
    "    layers.Dense(64, activation='relu'),\n",
    "    layers.Dense(1, activation='linear')\n",
    "])"
   ]
  },
  {
   "cell_type": "markdown",
   "id": "d51a0b09-4f25-4d1d-90ae-da456c4dbd7e",
   "metadata": {},
   "source": [
    "## Building the model"
   ]
  },
  {
   "cell_type": "code",
   "execution_count": 4,
   "id": "22ed5cd5-33c6-47dc-be85-f1eb01e10ce0",
   "metadata": {},
   "outputs": [],
   "source": [
    "model.compile(optimizer=Adam(1e-4), loss='mse', metrics=['mae'])"
   ]
  },
  {
   "cell_type": "markdown",
   "id": "58fde071-b1b1-44da-affb-323413826f7a",
   "metadata": {},
   "source": [
    "## Data Preparation and Transformation"
   ]
  },
  {
   "cell_type": "code",
   "execution_count": 5,
   "id": "8f11681c-a407-4e12-b64e-a11ec8525ebc",
   "metadata": {},
   "outputs": [],
   "source": [
    "def load_dataset(image_dir, gt_dir, target_size=(224, 224)):\n",
    "    X = []\n",
    "    y = []\n",
    "    image_files = [f for f in os.listdir(image_dir) if f.endswith('.jpg')]\n",
    "    \n",
    "    if not image_files:\n",
    "        raise ValueError(\"Brak plików .jpg w podanym katalogu!\")\n",
    "\n",
    "    for img_file in image_files:\n",
    "        img_path = os.path.join(image_dir, img_file)\n",
    "        mat_path = os.path.join(gt_dir, 'GT_' + img_file.replace('.jpg', '.mat'))\n",
    "\n",
    "        # Wczytaj obraz\n",
    "        img = Image.open(img_path).convert('RGB')\n",
    "        img_pil = img.copy()\n",
    "        img_pil.thumbnail(target_size, Image.BICUBIC)\n",
    "\n",
    "        # Padding\n",
    "        delta_w = target_size[0] - img_pil.size[0]\n",
    "        delta_h = target_size[1] - img_pil.size[1]\n",
    "        padding = (delta_w // 2, delta_h // 2, delta_w - (delta_w // 2), delta_h - (delta_h // 2))\n",
    "        img_padded = ImageOps.expand(img_pil, padding, fill=(0, 0, 0))\n",
    "\n",
    "        # Konwersja do numpy i normalizacja\n",
    "        img_array = np.array(img_padded) / 255.0  # Normalizacja [0, 1]\n",
    "\n",
    "        # Wczytaj ground truth (liczba osób)\n",
    "        mat = scipy.io.loadmat(mat_path)\n",
    "        count = len(mat['image_info'][0][0][0][0][0])\n",
    "\n",
    "        X.append(img_array)\n",
    "        y.append(count)\n",
    "\n",
    "    return np.array(X), np.array(y)"
   ]
  },
  {
   "cell_type": "markdown",
   "id": "d26fe5f4-87a2-40fc-84bf-5315d59b213c",
   "metadata": {},
   "source": [
    "## Training the Model"
   ]
  },
  {
   "cell_type": "code",
   "execution_count": 6,
   "id": "8740cc8f-e75a-4dcc-82d2-6796a2c8d7bc",
   "metadata": {},
   "outputs": [],
   "source": [
    "X_1, y_1 = load_dataset('ShanghaiTech/part_B/train_data/images/', 'ShanghaiTech/part_B/train_data/ground-truth/')"
   ]
  },
  {
   "cell_type": "code",
   "execution_count": 7,
   "id": "d3e7789b-9dc4-40b5-b129-58132c4451b6",
   "metadata": {},
   "outputs": [],
   "source": [
    "X_2, y_2 = load_dataset('ShanghaiTech/part_B/test_data/images/', 'ShanghaiTech/part_B/test_data/ground-truth/')"
   ]
  },
  {
   "cell_type": "code",
   "execution_count": 8,
   "id": "62cc5d38-c306-48a4-aa5b-dfa3e64eed57",
   "metadata": {},
   "outputs": [],
   "source": [
    "X = np.concatenate([X_1, X_2], axis=0)\n",
    "y = np.concatenate([y_1, y_2], axis=0)"
   ]
  },
  {
   "cell_type": "code",
   "execution_count": 9,
   "id": "e80daa4f-b05c-4f48-b475-ddc6ad607b83",
   "metadata": {},
   "outputs": [],
   "source": [
    "X_train, X_test, y_train, y_test = train_test_split(X, y, test_size=0.2, random_state=0)"
   ]
  },
  {
   "cell_type": "code",
   "execution_count": 10,
   "id": "93dc212f-78bc-4d20-a541-caa403cae8f8",
   "metadata": {},
   "outputs": [
    {
     "name": "stdout",
     "output_type": "stream",
     "text": [
      "Epoch 1/20\n",
      "\u001b[1m23/23\u001b[0m \u001b[32m━━━━━━━━━━━━━━━━━━━━\u001b[0m\u001b[37m\u001b[0m \u001b[1m161s\u001b[0m 7s/step - loss: 24038.3125 - mae: 122.9285 - val_loss: 15103.9395 - val_mae: 92.0156\n",
      "Epoch 2/20\n",
      "\u001b[1m23/23\u001b[0m \u001b[32m━━━━━━━━━━━━━━━━━━━━\u001b[0m\u001b[37m\u001b[0m \u001b[1m148s\u001b[0m 6s/step - loss: 14690.5283 - mae: 86.1006 - val_loss: 7189.7769 - val_mae: 68.7537\n",
      "Epoch 3/20\n",
      "\u001b[1m23/23\u001b[0m \u001b[32m━━━━━━━━━━━━━━━━━━━━\u001b[0m\u001b[37m\u001b[0m \u001b[1m148s\u001b[0m 6s/step - loss: 8823.0127 - mae: 71.9325 - val_loss: 6454.8003 - val_mae: 60.0582\n",
      "Epoch 4/20\n",
      "\u001b[1m23/23\u001b[0m \u001b[32m━━━━━━━━━━━━━━━━━━━━\u001b[0m\u001b[37m\u001b[0m \u001b[1m151s\u001b[0m 7s/step - loss: 8499.8633 - mae: 69.8190 - val_loss: 6156.0693 - val_mae: 58.6263\n",
      "Epoch 5/20\n",
      "\u001b[1m23/23\u001b[0m \u001b[32m━━━━━━━━━━━━━━━━━━━━\u001b[0m\u001b[37m\u001b[0m \u001b[1m148s\u001b[0m 6s/step - loss: 8075.4126 - mae: 67.4840 - val_loss: 5819.6567 - val_mae: 57.1751\n",
      "Epoch 6/20\n",
      "\u001b[1m23/23\u001b[0m \u001b[32m━━━━━━━━━━━━━━━━━━━━\u001b[0m\u001b[37m\u001b[0m \u001b[1m148s\u001b[0m 6s/step - loss: 7580.8652 - mae: 65.6452 - val_loss: 5439.2598 - val_mae: 54.7445\n",
      "Epoch 7/20\n",
      "\u001b[1m23/23\u001b[0m \u001b[32m━━━━━━━━━━━━━━━━━━━━\u001b[0m\u001b[37m\u001b[0m \u001b[1m148s\u001b[0m 6s/step - loss: 7018.4028 - mae: 63.1111 - val_loss: 4944.0752 - val_mae: 51.3269\n",
      "Epoch 8/20\n",
      "\u001b[1m23/23\u001b[0m \u001b[32m━━━━━━━━━━━━━━━━━━━━\u001b[0m\u001b[37m\u001b[0m \u001b[1m148s\u001b[0m 6s/step - loss: 6280.5566 - mae: 59.3981 - val_loss: 4263.5845 - val_mae: 46.3153\n",
      "Epoch 9/20\n",
      "\u001b[1m23/23\u001b[0m \u001b[32m━━━━━━━━━━━━━━━━━━━━\u001b[0m\u001b[37m\u001b[0m \u001b[1m149s\u001b[0m 7s/step - loss: 5272.8433 - mae: 53.6376 - val_loss: 3370.6724 - val_mae: 39.1218\n",
      "Epoch 10/20\n",
      "\u001b[1m23/23\u001b[0m \u001b[32m━━━━━━━━━━━━━━━━━━━━\u001b[0m\u001b[37m\u001b[0m \u001b[1m149s\u001b[0m 7s/step - loss: 4072.1787 - mae: 46.0107 - val_loss: 2548.4265 - val_mae: 34.2780\n",
      "Epoch 11/20\n",
      "\u001b[1m23/23\u001b[0m \u001b[32m━━━━━━━━━━━━━━━━━━━━\u001b[0m\u001b[37m\u001b[0m \u001b[1m148s\u001b[0m 6s/step - loss: 3066.0183 - mae: 39.0315 - val_loss: 2117.3176 - val_mae: 31.5734\n",
      "Epoch 12/20\n",
      "\u001b[1m23/23\u001b[0m \u001b[32m━━━━━━━━━━━━━━━━━━━━\u001b[0m\u001b[37m\u001b[0m \u001b[1m148s\u001b[0m 6s/step - loss: 2425.6934 - mae: 34.4556 - val_loss: 1745.8767 - val_mae: 27.4120\n",
      "Epoch 13/20\n",
      "\u001b[1m23/23\u001b[0m \u001b[32m━━━━━━━━━━━━━━━━━━━━\u001b[0m\u001b[37m\u001b[0m \u001b[1m153s\u001b[0m 7s/step - loss: 1994.1350 - mae: 31.2350 - val_loss: 1489.8461 - val_mae: 25.3199\n",
      "Epoch 14/20\n",
      "\u001b[1m23/23\u001b[0m \u001b[32m━━━━━━━━━━━━━━━━━━━━\u001b[0m\u001b[37m\u001b[0m \u001b[1m148s\u001b[0m 6s/step - loss: 1672.0444 - mae: 28.9224 - val_loss: 1278.9961 - val_mae: 23.5793\n",
      "Epoch 15/20\n",
      "\u001b[1m23/23\u001b[0m \u001b[32m━━━━━━━━━━━━━━━━━━━━\u001b[0m\u001b[37m\u001b[0m \u001b[1m149s\u001b[0m 6s/step - loss: 1406.6372 - mae: 26.7899 - val_loss: 1094.5023 - val_mae: 22.0193\n",
      "Epoch 16/20\n",
      "\u001b[1m23/23\u001b[0m \u001b[32m━━━━━━━━━━━━━━━━━━━━\u001b[0m\u001b[37m\u001b[0m \u001b[1m148s\u001b[0m 6s/step - loss: 1177.2572 - mae: 24.7329 - val_loss: 927.1379 - val_mae: 20.5134\n",
      "Epoch 17/20\n",
      "\u001b[1m23/23\u001b[0m \u001b[32m━━━━━━━━━━━━━━━━━━━━\u001b[0m\u001b[37m\u001b[0m \u001b[1m149s\u001b[0m 7s/step - loss: 984.6508 - mae: 22.7798 - val_loss: 784.3316 - val_mae: 19.0850\n",
      "Epoch 18/20\n",
      "\u001b[1m23/23\u001b[0m \u001b[32m━━━━━━━━━━━━━━━━━━━━\u001b[0m\u001b[37m\u001b[0m \u001b[1m149s\u001b[0m 7s/step - loss: 821.4799 - mae: 20.9072 - val_loss: 661.5992 - val_mae: 17.7929\n",
      "Epoch 19/20\n",
      "\u001b[1m23/23\u001b[0m \u001b[32m━━━━━━━━━━━━━━━━━━━━\u001b[0m\u001b[37m\u001b[0m \u001b[1m150s\u001b[0m 7s/step - loss: 680.1868 - mae: 19.1969 - val_loss: 557.7892 - val_mae: 16.5921\n",
      "Epoch 20/20\n",
      "\u001b[1m23/23\u001b[0m \u001b[32m━━━━━━━━━━━━━━━━━━━━\u001b[0m\u001b[37m\u001b[0m \u001b[1m151s\u001b[0m 7s/step - loss: 559.9095 - mae: 17.6449 - val_loss: 467.0427 - val_mae: 15.5325\n"
     ]
    }
   ],
   "source": [
    "dataset = tf.data.Dataset.from_tensor_slices((X, y)).batch(32)\n",
    "history = model.fit(dataset, batch_size=32,\n",
    "    epochs=20, validation_data=(X_test, y_test)\n",
    ")"
   ]
  },
  {
   "cell_type": "markdown",
   "id": "6982af43-d3ab-42bb-9339-ac1c252c7de2",
   "metadata": {},
   "source": [
    "## Testing the model"
   ]
  },
  {
   "cell_type": "code",
   "execution_count": 11,
   "id": "b8a40bee-4257-4124-ab5f-5db54d82d847",
   "metadata": {},
   "outputs": [
    {
     "data": {
      "image/png": "[encoded data removed]",
      "text/plain": [
       "<Figure size 1200x500 with 2 Axes>"
      ]
     },
     "metadata": {},
     "output_type": "display_data"
    }
   ],
   "source": [
    "history_dict = history.history\n",
    "\n",
    "# Getting the metrics\n",
    "mae = history_dict['mae']\n",
    "val_mae = history_dict.get('val_mae')\n",
    "loss = history_dict['loss']\n",
    "val_loss = history_dict.get('val_loss')\n",
    "\n",
    "epochs = range(1, len(mae) + 1)\n",
    "\n",
    "# MAE\n",
    "plt.figure(figsize=(12, 5))\n",
    "\n",
    "plt.subplot(1, 2, 1)\n",
    "plt.plot(epochs, mae, 'b-', label='Training')\n",
    "if val_mae:\n",
    "    plt.plot(epochs, val_mae, 'r-', label='Validation')\n",
    "plt.title('Model MAE')\n",
    "plt.xlabel('Epoch')\n",
    "plt.ylabel('MAE')\n",
    "plt.legend()\n",
    "\n",
    "# Loss (MSE)\n",
    "plt.subplot(1, 2, 2)\n",
    "plt.plot(epochs, loss, 'b-', label='Training')\n",
    "if val_loss:\n",
    "    plt.plot(epochs, val_loss, 'r-', label='Validation')\n",
    "plt.title('Model MSE')\n",
    "plt.xlabel('Epoch')\n",
    "plt.ylabel('MSE')\n",
    "plt.legend()\n",
    "\n",
    "plt.tight_layout()\n",
    "plt.show()"
   ]
  },
  {
   "cell_type": "code",
   "execution_count": 12,
   "id": "d55fe3b3-45bc-4070-a619-b10257128f0f",
   "metadata": {},
   "outputs": [
    {
     "name": "stdout",
     "output_type": "stream",
     "text": [
      "\u001b[1m5/5\u001b[0m \u001b[32m━━━━━━━━━━━━━━━━━━━━\u001b[0m\u001b[37m\u001b[0m \u001b[1m23s\u001b[0m 5s/step\n"
     ]
    }
   ],
   "source": [
    "y_pred = model.predict(X_test)"
   ]
  },
  {
   "cell_type": "code",
   "execution_count": 13,
   "id": "eb812084-9efe-44e7-8651-faccefecd134",
   "metadata": {},
   "outputs": [
    {
     "name": "stdout",
     "output_type": "stream",
     "text": [
      "[[219.50050354 156.        ]\n",
      " [256.50878906 267.        ]\n",
      " [ 89.19432068  86.        ]\n",
      " [131.94914246 143.        ]\n",
      " [ 65.68035126  54.        ]\n",
      " [ 38.06998062  36.        ]\n",
      " [ 48.1530838   48.        ]\n",
      " [ 43.4120903   42.        ]\n",
      " [120.59068298 118.        ]\n",
      " [291.59646606 281.        ]\n",
      " [109.72189331 106.        ]\n",
      " [ 39.43334579  35.        ]\n",
      " [155.87620544 138.        ]\n",
      " [331.40246582 251.        ]\n",
      " [ 93.30630493 123.        ]\n",
      " [160.48658752 146.        ]\n",
      " [ 85.82830811  74.        ]\n",
      " [177.22166443 129.        ]\n",
      " [ 83.14375305  85.        ]\n",
      " [242.80914307 176.        ]\n",
      " [ 64.70527649  64.        ]\n",
      " [ 31.22445869  28.        ]\n",
      " [131.05690002 132.        ]\n",
      " [110.36923218  93.        ]\n",
      " [309.8835144  298.        ]\n",
      " [196.3584137  217.        ]\n",
      " [ 76.59903717  61.        ]\n",
      " [145.88323975 111.        ]\n",
      " [ 88.91577911  87.        ]\n",
      " [ 47.23594666  53.        ]\n",
      " [ 82.40390015  73.        ]\n",
      " [114.96058655  94.        ]\n",
      " [304.71746826 265.        ]\n",
      " [186.43675232 166.        ]\n",
      " [ 36.29697037  28.        ]\n",
      " [ 91.47631836  68.        ]\n",
      " [220.34420776 229.        ]\n",
      " [162.84196472 165.        ]\n",
      " [ 49.00042725  35.        ]\n",
      " [ 75.29821014  66.        ]\n",
      " [ 55.83363724  47.        ]\n",
      " [142.79916382 132.        ]\n",
      " [ 51.78601456  60.        ]\n",
      " [137.71974182 150.        ]\n",
      " [ 51.9209938   38.        ]\n",
      " [ 99.04065704  79.        ]\n",
      " [113.88482666 123.        ]\n",
      " [ 72.89376068  57.        ]\n",
      " [ 48.64437866  57.        ]\n",
      " [ 94.13082123  94.        ]\n",
      " [ 54.07565689  35.        ]\n",
      " [ 42.98171234  21.        ]\n",
      " [113.64575195 114.        ]\n",
      " [198.1955719  203.        ]\n",
      " [ 58.15735245  28.        ]\n",
      " [ 76.5043335   51.        ]\n",
      " [179.03489685 159.        ]\n",
      " [ 39.8625946   36.        ]\n",
      " [141.78858948 133.        ]\n",
      " [165.98194885 155.        ]\n",
      " [ 75.20160675  97.        ]\n",
      " [267.79962158 277.        ]\n",
      " [ 53.77946091  54.        ]\n",
      " [ 32.62316132  25.        ]\n",
      " [ 56.84724808  29.        ]\n",
      " [ 61.27399063  80.        ]\n",
      " [ 89.36636353 104.        ]\n",
      " [102.15925598 107.        ]\n",
      " [309.99865723 344.        ]\n",
      " [202.6912384  205.        ]\n",
      " [ 59.05770493  83.        ]\n",
      " [180.14968872 132.        ]\n",
      " [ 65.59365845  84.        ]\n",
      " [167.70210266 164.        ]\n",
      " [110.12368774 104.        ]\n",
      " [168.39189148 142.        ]\n",
      " [297.8392334  235.        ]\n",
      " [ 13.81935692  26.        ]\n",
      " [272.6725769  266.        ]\n",
      " [ 92.32476044 106.        ]\n",
      " [ 81.61354065  44.        ]\n",
      " [202.43132019 170.        ]\n",
      " [ 87.56671906  71.        ]\n",
      " [ 73.14515686  70.        ]\n",
      " [167.19236755 209.        ]\n",
      " [190.62968445 153.        ]\n",
      " [ 58.00442123  54.        ]\n",
      " [208.9934845  217.        ]\n",
      " [ 98.60121155 136.        ]\n",
      " [115.39710999 104.        ]\n",
      " [ 58.04075241  74.        ]\n",
      " [ 38.30993271  26.        ]\n",
      " [116.93463135 131.        ]\n",
      " [ 46.83778     60.        ]\n",
      " [ 20.8564682   26.        ]\n",
      " [106.95198822 108.        ]\n",
      " [ 56.75841904  62.        ]\n",
      " [132.47756958 139.        ]\n",
      " [ 50.21258163  48.        ]\n",
      " [ 83.94265747  86.        ]\n",
      " [304.70999146 299.        ]\n",
      " [149.56687927 121.        ]\n",
      " [195.93647766 176.        ]\n",
      " [ 48.6375618   48.        ]\n",
      " [ 56.42746353  58.        ]\n",
      " [ 30.5780735   30.        ]\n",
      " [160.09115601 166.        ]\n",
      " [ 45.22066879  43.        ]\n",
      " [183.04652405 177.        ]\n",
      " [ 36.64981461  33.        ]\n",
      " [119.7075882  118.        ]\n",
      " [ 85.18854523 101.        ]\n",
      " [145.54669189 146.        ]\n",
      " [ 57.69319534  61.        ]\n",
      " [154.53623962 144.        ]\n",
      " [143.74711609 131.        ]\n",
      " [ 91.36686707  70.        ]\n",
      " [467.57598877 539.        ]\n",
      " [218.35945129 243.        ]\n",
      " [254.3964386  261.        ]\n",
      " [282.55593872 274.        ]\n",
      " [ 61.45756149  41.        ]\n",
      " [ 81.20808411  96.        ]\n",
      " [215.81394958 200.        ]\n",
      " [119.12255859  90.        ]\n",
      " [131.50346375 162.        ]\n",
      " [ 77.92771912  74.        ]\n",
      " [104.31816101 110.        ]\n",
      " [328.62945557 282.        ]\n",
      " [ 82.40087891 109.        ]\n",
      " [ 94.81009674  80.        ]\n",
      " [245.72608948 264.        ]\n",
      " [122.77622986 106.        ]\n",
      " [ 88.42365265  94.        ]\n",
      " [ 27.64166451  14.        ]\n",
      " [ 48.54240799  43.        ]\n",
      " [236.72116089 252.        ]\n",
      " [ 84.27480316  67.        ]\n",
      " [ 54.69841766  56.        ]\n",
      " [134.96116638 125.        ]\n",
      " [101.13166046 125.        ]\n",
      " [233.98484802 213.        ]\n",
      " [263.39825439 229.        ]\n",
      " [164.05488586 168.        ]]\n"
     ]
    }
   ],
   "source": [
    "y_pred.reshape(len(y_pred), 1)\n",
    "y_test.reshape(len(y_test), 1)\n",
    "print(np.concatenate((y_pred.reshape(len(y_pred), 1), y_test.reshape(len(y_test), 1)), 1))"
   ]
  },
  {
   "cell_type": "code",
   "execution_count": 14,
   "id": "bbc148fd-a8ed-402e-bc42-d445cb366caf",
   "metadata": {},
   "outputs": [
    {
     "data": {
      "text/plain": [
       "0.9309407472610474"
      ]
     },
     "execution_count": 14,
     "metadata": {},
     "output_type": "execute_result"
    }
   ],
   "source": [
    "from sklearn.metrics import r2_score\n",
    "r2_score(y_test, y_pred)"
   ]
  }
 ],
 "metadata": {
  "kernelspec": {
   "display_name": "cnn_e",
   "language": "python",
   "name": "cnn_e"
  },
  "language_info": {
   "codemirror_mode": {
    "name": "ipython",
    "version": 3
   },
   "file_extension": ".py",
   "mimetype": "text/x-python",
   "name": "python",
   "nbconvert_exporter": "python",
   "pygments_lexer": "ipython3",
   "version": "3.11.13"
  }
 },
 "nbformat": 4,
 "nbformat_minor": 5
}
