{
 "cells": [
  {
   "cell_type": "code",
   "execution_count": 2,
   "id": "8d94c7a6-383c-42bb-96be-4e853afa816d",
   "metadata": {},
   "outputs": [],
   "source": [
    "import os\n",
    "import numpy as np\n",
    "import cv2\n",
    "import tensorflow as tf\n",
    "from tensorflow.keras.applications.efficientnet import preprocess_input\n",
    "from tensorflow.keras.preprocessing.image import load_img, img_to_array\n",
    "from tensorflow.keras.layers import RandomFlip, RandomRotation, RandomZoom\n",
    "from tensorflow.keras.optimizers import Adam\n",
    "import scipy.io\n",
    "import matplotlib.pyplot as plt\n",
    "from tensorflow.keras.applications import EfficientNetB0\n",
    "from tensorflow.keras import layers, models, optimizers\n",
    "from PIL import Image, ImageOps\n",
    "from sklearn.model_selection import train_test_split"
   ]
  },
  {
   "cell_type": "code",
   "execution_count": 3,
   "id": "177431e4-6cbd-4908-91af-1e95921197fa",
   "metadata": {},
   "outputs": [
    {
     "name": "stdout",
     "output_type": "stream",
     "text": [
      "Downloading data from https://storage.googleapis.com/keras-applications/efficientnetb0_notop.h5\n",
      "\u001b[1m16705208/16705208\u001b[0m \u001b[32m━━━━━━━━━━━━━━━━━━━━\u001b[0m\u001b[37m\u001b[0m \u001b[1m9s\u001b[0m 1us/step \n"
     ]
    }
   ],
   "source": [
    "# Load pre-trained model without top classifier layers\n",
    "base_model = EfficientNetB0(weights='imagenet', include_top=False, input_shape=(224, 224, 3))\n",
    "base_model.trainable = False  # Freeze base model\n",
    "\n",
    "model = models.Sequential([\n",
    "    base_model,\n",
    "    layers.Flatten(),\n",
    "    layers.Dropout(0.3),\n",
    "    layers.Dense(128, activation='relu'),\n",
    "    layers.Dropout(0.3),\n",
    "    layers.Dense(64, activation='relu'),\n",
    "    layers.Dense(1, activation='linear')\n",
    "])\n",
    "\n",
    "model.compile(optimizer=Adam(1e-4), loss='mse', metrics=['mae'])"
   ]
  },
  {
   "cell_type": "code",
   "execution_count": 6,
   "id": "736b98fe-fc8d-4b6d-926b-ffee22a98036",
   "metadata": {},
   "outputs": [],
   "source": [
    "def load_dataset(image_dir, gt_dir, target_size=(224, 224)):\n",
    "    X = []\n",
    "    y = []\n",
    "    image_files = [f for f in os.listdir(image_dir) if f.endswith('.jpg')]\n",
    "    \n",
    "    if not image_files:\n",
    "        raise ValueError(\"Brak plików .jpg w podanym katalogu!\")\n",
    "\n",
    "    for img_file in image_files:\n",
    "        img_path = os.path.join(image_dir, img_file)\n",
    "        mat_path = os.path.join(gt_dir, 'GT_' + img_file.replace('.jpg', '.mat'))\n",
    "\n",
    "        # Wczytaj obraz\n",
    "        img = Image.open(img_path).convert('RGB')\n",
    "        img_pil = img.copy()\n",
    "        img_pil.thumbnail(target_size, Image.BICUBIC)\n",
    "\n",
    "        # Padding\n",
    "        delta_w = target_size[0] - img_pil.size[0]\n",
    "        delta_h = target_size[1] - img_pil.size[1]\n",
    "        padding = (delta_w // 2, delta_h // 2, delta_w - (delta_w // 2), delta_h - (delta_h // 2))\n",
    "        img_padded = ImageOps.expand(img_pil, padding, fill=(0, 0, 0))\n",
    "\n",
    "        # Konwersja do numpy i normalizacja\n",
    "        img_array = np.array(img_padded) / 255.0  # Normalizacja [0, 1]\n",
    "\n",
    "        # Wczytaj ground truth (liczba osób)\n",
    "        mat = scipy.io.loadmat(mat_path)\n",
    "        count = len(mat['image_info'][0][0][0][0][0])\n",
    "\n",
    "        X.append(img_array)\n",
    "        y.append(count)\n",
    "\n",
    "    return np.array(X), np.array(y)"
   ]
  },
  {
   "cell_type": "code",
   "execution_count": 7,
   "id": "6ad8c1db-d1f4-453a-8268-449321e02c31",
   "metadata": {},
   "outputs": [],
   "source": [
    "X_1, y_1 = load_dataset('ShanghaiTech/part_B/train_data/images/', 'ShanghaiTech/part_B/train_data/ground-truth/')"
   ]
  },
  {
   "cell_type": "code",
   "execution_count": 8,
   "id": "9503dbea-c5f6-4368-984f-832e191463c3",
   "metadata": {},
   "outputs": [],
   "source": [
    "X_2, y_2 = load_dataset('ShanghaiTech/part_B/test_data/images/', 'ShanghaiTech/part_B/test_data/ground-truth/')"
   ]
  },
  {
   "cell_type": "code",
   "execution_count": 9,
   "id": "04cd9c38-1b7b-458a-9caa-e812e0462b03",
   "metadata": {},
   "outputs": [],
   "source": [
    "X = np.concatenate([X_1, X_2], axis=0)\n",
    "y = np.concatenate([y_1, y_2], axis=0)"
   ]
  },
  {
   "cell_type": "code",
   "execution_count": 10,
   "id": "60ee6aeb-ffb4-4c97-b1c0-3d213c2e817c",
   "metadata": {},
   "outputs": [],
   "source": [
    "X_train, X_test, y_train, y_test = train_test_split(X, y, test_size=0.2, random_state=0)"
   ]
  },
  {
   "cell_type": "code",
   "execution_count": 11,
   "id": "0f0d1329-852e-4446-8cab-f7ecce08a14d",
   "metadata": {},
   "outputs": [
    {
     "name": "stdout",
     "output_type": "stream",
     "text": [
      "Epoch 1/20\n",
      "\u001b[1m23/23\u001b[0m \u001b[32m━━━━━━━━━━━━━━━━━━━━\u001b[0m\u001b[37m\u001b[0m \u001b[1m43s\u001b[0m 1s/step - loss: 23823.2246 - mae: 122.0742 - val_loss: 17146.1484 - val_mae: 101.9714\n",
      "Epoch 2/20\n",
      "\u001b[1m23/23\u001b[0m \u001b[32m━━━━━━━━━━━━━━━━━━━━\u001b[0m\u001b[37m\u001b[0m \u001b[1m19s\u001b[0m 838ms/step - loss: 19127.1758 - mae: 101.5389 - val_loss: 11848.1602 - val_mae: 77.1615\n",
      "Epoch 3/20\n",
      "\u001b[1m23/23\u001b[0m \u001b[32m━━━━━━━━━━━━━━━━━━━━\u001b[0m\u001b[37m\u001b[0m \u001b[1m19s\u001b[0m 813ms/step - loss: 13681.3115 - mae: 80.7647 - val_loss: 7864.2231 - val_mae: 62.8273\n",
      "Epoch 4/20\n",
      "\u001b[1m23/23\u001b[0m \u001b[32m━━━━━━━━━━━━━━━━━━━━\u001b[0m\u001b[37m\u001b[0m \u001b[1m18s\u001b[0m 789ms/step - loss: 10063.4014 - mae: 70.7772 - val_loss: 6782.5215 - val_mae: 62.5935\n",
      "Epoch 5/20\n",
      "\u001b[1m23/23\u001b[0m \u001b[32m━━━━━━━━━━━━━━━━━━━━\u001b[0m\u001b[37m\u001b[0m \u001b[1m18s\u001b[0m 796ms/step - loss: 9054.6729 - mae: 71.0961 - val_loss: 6791.7090 - val_mae: 64.0936\n",
      "Epoch 6/20\n",
      "\u001b[1m23/23\u001b[0m \u001b[32m━━━━━━━━━━━━━━━━━━━━\u001b[0m\u001b[37m\u001b[0m \u001b[1m19s\u001b[0m 725ms/step - loss: 8985.6992 - mae: 71.7019 - val_loss: 6779.4409 - val_mae: 63.7681\n",
      "Epoch 7/20\n",
      "\u001b[1m16/23\u001b[0m \u001b[32m━━━━━━━━━━━━━\u001b[0m\u001b[37m━━━━━━━\u001b[0m \u001b[1m4s\u001b[0m 675ms/step - loss: 8898.1543 - mae: 70.9255 "
     ]
    },
    {
     "name": "stderr",
     "output_type": "stream",
     "text": [
      "\n",
      "KeyboardInterrupt\n",
      "\n"
     ]
    }
   ],
   "source": [
    "training_set = tf.data.Dataset.from_tensor_slices((X_train, y_train)).batch(32)\n",
    "\n",
    "# Function to augment\n",
    "data_augmentation = tf.keras.Sequential([\n",
    "    RandomFlip(\"horizontal\"),\n",
    "    RandomRotation(0.1),\n",
    "    RandomZoom(0.1),\n",
    "])\n",
    "\n",
    "def augment(x, y):\n",
    "    return data_augmentation(x), y\n",
    "\n",
    "training_set = tf.data.Dataset.from_tensor_slices((X_train, y_train))\n",
    "training_set = training_set.map(augment)  # augment\n",
    "training_set = training_set.batch(32).prefetch(tf.data.AUTOTUNE)\n",
    "history = model.fit(training_set, batch_size=32,\n",
    "    epochs=20, validation_data=(X_test, y_test)\n",
    ")"
   ]
  },
  {
   "cell_type": "code",
   "execution_count": 10,
   "id": "d5505dcc-1a5a-497c-984a-553f17b9f569",
   "metadata": {},
   "outputs": [
    {
     "data": {
      "image/png": "[encoded data removed]",
      "text/plain": [
       "<Figure size 1200x500 with 2 Axes>"
      ]
     },
     "metadata": {},
     "output_type": "display_data"
    }
   ],
   "source": [
    "history_dict = history.history\n",
    "\n",
    "# Getting the metrics\n",
    "mae = history_dict['mae']\n",
    "val_mae = history_dict.get('val_mae')\n",
    "loss = history_dict['loss']\n",
    "val_loss = history_dict.get('val_loss')\n",
    "\n",
    "epochs = range(1, len(mae) + 1)\n",
    "\n",
    "# MAE\n",
    "plt.figure(figsize=(12, 5))\n",
    "\n",
    "plt.subplot(1, 2, 1)\n",
    "plt.plot(epochs, mae, 'b-', label='Training')\n",
    "if val_mae:\n",
    "    plt.plot(epochs, val_mae, 'r-', label='Validation')\n",
    "plt.title('Model MAE')\n",
    "plt.xlabel('Epoch')\n",
    "plt.ylabel('MAE')\n",
    "plt.legend()\n",
    "\n",
    "# Loss (MSE)\n",
    "plt.subplot(1, 2, 2)\n",
    "plt.plot(epochs, loss, 'b-', label='Training')\n",
    "if val_loss:\n",
    "    plt.plot(epochs, val_loss, 'r-', label='Validation')\n",
    "plt.title('Model MSE')\n",
    "plt.xlabel('Epoch')\n",
    "plt.ylabel('MSE')\n",
    "plt.legend()\n",
    "\n",
    "plt.tight_layout()\n",
    "plt.show()"
   ]
  },
  {
   "cell_type": "code",
   "execution_count": 11,
   "id": "0004bb15-ee49-4edb-89be-f96e73f142fd",
   "metadata": {},
   "outputs": [
    {
     "name": "stdout",
     "output_type": "stream",
     "text": [
      "\u001b[1m5/5\u001b[0m \u001b[32m━━━━━━━━━━━━━━━━━━━━\u001b[0m\u001b[37m\u001b[0m \u001b[1m17s\u001b[0m 3s/step\n"
     ]
    }
   ],
   "source": [
    "y_pred = np.round(model.predict(X_test))"
   ]
  },
  {
   "cell_type": "code",
   "execution_count": 12,
   "id": "981cf90b-bc51-46bb-8c8b-23064bc0174c",
   "metadata": {},
   "outputs": [
    {
     "name": "stdout",
     "output_type": "stream",
     "text": [
      "[[115. 156.]\n",
      " [117. 267.]\n",
      " [ 96.  86.]\n",
      " [133. 143.]\n",
      " [134.  54.]\n",
      " [107.  36.]\n",
      " [ 86.  48.]\n",
      " [123.  42.]\n",
      " [137. 118.]\n",
      " [123. 281.]\n",
      " [109. 106.]\n",
      " [109.  35.]\n",
      " [145. 138.]\n",
      " [154. 251.]\n",
      " [ 97. 123.]\n",
      " [141. 146.]\n",
      " [133.  74.]\n",
      " [136. 129.]\n",
      " [115.  85.]\n",
      " [127. 176.]\n",
      " [113.  64.]\n",
      " [111.  28.]\n",
      " [134. 132.]\n",
      " [109.  93.]\n",
      " [134. 298.]\n",
      " [133. 217.]\n",
      " [111.  61.]\n",
      " [132. 111.]\n",
      " [107.  87.]\n",
      " [116.  53.]\n",
      " [117.  73.]\n",
      " [125.  94.]\n",
      " [134. 265.]\n",
      " [146. 166.]\n",
      " [104.  28.]\n",
      " [123.  68.]\n",
      " [124. 229.]\n",
      " [132. 165.]\n",
      " [106.  35.]\n",
      " [ 96.  66.]\n",
      " [129.  47.]\n",
      " [139. 132.]\n",
      " [108.  60.]\n",
      " [125. 150.]\n",
      " [117.  38.]\n",
      " [107.  79.]\n",
      " [138. 123.]\n",
      " [122.  57.]\n",
      " [ 83.  57.]\n",
      " [123.  94.]\n",
      " [134.  35.]\n",
      " [ 81.  21.]\n",
      " [125. 114.]\n",
      " [121. 203.]\n",
      " [ 92.  28.]\n",
      " [126.  51.]\n",
      " [150. 159.]\n",
      " [ 78.  36.]\n",
      " [123. 133.]\n",
      " [145. 155.]\n",
      " [131.  97.]\n",
      " [153. 277.]\n",
      " [ 90.  54.]\n",
      " [ 91.  25.]\n",
      " [ 91.  29.]\n",
      " [ 95.  80.]\n",
      " [125. 104.]\n",
      " [127. 107.]\n",
      " [122. 344.]\n",
      " [117. 205.]\n",
      " [107.  83.]\n",
      " [140. 132.]\n",
      " [117.  84.]\n",
      " [126. 164.]\n",
      " [146. 104.]\n",
      " [114. 142.]\n",
      " [153. 235.]\n",
      " [ 83.  26.]\n",
      " [116. 266.]\n",
      " [132. 106.]\n",
      " [130.  44.]\n",
      " [120. 170.]\n",
      " [106.  71.]\n",
      " [122.  70.]\n",
      " [119. 209.]\n",
      " [150. 153.]\n",
      " [108.  54.]\n",
      " [147. 217.]\n",
      " [133. 136.]\n",
      " [130. 104.]\n",
      " [104.  74.]\n",
      " [108.  26.]\n",
      " [116. 131.]\n",
      " [116.  60.]\n",
      " [ 88.  26.]\n",
      " [134. 108.]\n",
      " [ 90.  62.]\n",
      " [121. 139.]\n",
      " [115.  48.]\n",
      " [127.  86.]\n",
      " [133. 299.]\n",
      " [140. 121.]\n",
      " [123. 176.]\n",
      " [ 92.  48.]\n",
      " [112.  58.]\n",
      " [ 90.  30.]\n",
      " [137. 166.]\n",
      " [113.  43.]\n",
      " [137. 177.]\n",
      " [112.  33.]\n",
      " [108. 118.]\n",
      " [114. 101.]\n",
      " [123. 146.]\n",
      " [119.  61.]\n",
      " [140. 144.]\n",
      " [122. 131.]\n",
      " [123.  70.]\n",
      " [145. 539.]\n",
      " [130. 243.]\n",
      " [151. 261.]\n",
      " [138. 274.]\n",
      " [ 81.  41.]\n",
      " [115.  96.]\n",
      " [153. 200.]\n",
      " [109.  90.]\n",
      " [104. 162.]\n",
      " [102.  74.]\n",
      " [115. 110.]\n",
      " [135. 282.]\n",
      " [137. 109.]\n",
      " [113.  80.]\n",
      " [134. 264.]\n",
      " [104. 106.]\n",
      " [111.  94.]\n",
      " [105.  14.]\n",
      " [ 98.  43.]\n",
      " [119. 252.]\n",
      " [111.  67.]\n",
      " [108.  56.]\n",
      " [130. 125.]\n",
      " [155. 125.]\n",
      " [130. 213.]\n",
      " [102. 229.]\n",
      " [151. 168.]]\n"
     ]
    }
   ],
   "source": [
    "y_pred.reshape(len(y_pred), 1)\n",
    "y_test.reshape(len(y_test), 1)\n",
    "print(np.concatenate((y_pred.reshape(len(y_pred), 1), y_test.reshape(len(y_test), 1)), 1))"
   ]
  },
  {
   "cell_type": "code",
   "execution_count": 13,
   "id": "cf005426-7101-4edf-b608-65a8d41a63bf",
   "metadata": {},
   "outputs": [
    {
     "data": {
      "text/plain": [
       "0.1925506591796875"
      ]
     },
     "execution_count": 13,
     "metadata": {},
     "output_type": "execute_result"
    }
   ],
   "source": [
    "from sklearn.metrics import r2_score\n",
    "r2_score(y_test, y_pred)"
   ]
  }
 ],
 "metadata": {
  "kernelspec": {
   "display_name": "cnn_e",
   "language": "python",
   "name": "cnn_e"
  },
  "language_info": {
   "codemirror_mode": {
    "name": "ipython",
    "version": 3
   },
   "file_extension": ".py",
   "mimetype": "text/x-python",
   "name": "python",
   "nbconvert_exporter": "python",
   "pygments_lexer": "ipython3",
   "version": "3.11.13"
  }
 },
 "nbformat": 4,
 "nbformat_minor": 5
}
