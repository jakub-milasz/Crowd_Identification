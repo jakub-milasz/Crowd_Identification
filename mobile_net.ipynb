{
 "cells": [
  {
   "cell_type": "code",
   "execution_count": 1,
   "id": "e100bd86-fb84-431b-94ba-c26512bb1ca6",
   "metadata": {},
   "outputs": [],
   "source": [
    "import os\n",
    "import numpy as np\n",
    "import cv2\n",
    "import tensorflow as tf\n",
    "from tensorflow.keras.applications.mobilenet_v2 import preprocess_input\n",
    "from tensorflow.keras.preprocessing.image import load_img, img_to_array\n",
    "from tensorflow.keras.preprocessing.image import ImageDataGenerator\n",
    "from tensorflow.keras.optimizers import Adam\n",
    "import scipy.io\n",
    "import matplotlib.pyplot as plt\n",
    "from tensorflow.keras.applications import MobileNet\n",
    "from tensorflow.keras import layers, models, optimizers\n",
    "from PIL import Image, ImageOps\n",
    "from sklearn.model_selection import train_test_split"
   ]
  },
  {
   "cell_type": "markdown",
   "id": "f522f398-f03b-486a-82a7-834e802387ad",
   "metadata": {},
   "source": [
    "## Reading data"
   ]
  },
  {
   "cell_type": "code",
   "execution_count": 9,
   "id": "9549c429-f36a-4559-bc3c-b0a9baf99a1e",
   "metadata": {},
   "outputs": [],
   "source": [
    "def load_dataset(image_dir, gt_dir, target_size=(224, 224)):\n",
    "    X = []\n",
    "    y = []\n",
    "    image_files = [f for f in os.listdir(image_dir) if f.endswith('.jpg')]\n",
    "    \n",
    "    if not image_files:\n",
    "        raise ValueError(\"Brak plików .jpg w podanym katalogu!\")\n",
    "\n",
    "    for img_file in image_files:\n",
    "        img_path = os.path.join(image_dir, img_file)\n",
    "        mat_path = os.path.join(gt_dir, 'GT_' + img_file.replace('.jpg', '.mat'))\n",
    "\n",
    "        # Wczytaj obraz\n",
    "        img = Image.open(img_path).convert('RGB')\n",
    "        img_pil = img.copy()\n",
    "        img_pil.thumbnail(target_size, Image.BICUBIC)\n",
    "\n",
    "        # Padding\n",
    "        delta_w = target_size[0] - img_pil.size[0]\n",
    "        delta_h = target_size[1] - img_pil.size[1]\n",
    "        padding = (delta_w // 2, delta_h // 2, delta_w - (delta_w // 2), delta_h - (delta_h // 2))\n",
    "        img_padded = ImageOps.expand(img_pil, padding, fill=(0, 0, 0))\n",
    "\n",
    "        # Konwersja do numpy i normalizacja\n",
    "        img_array = np.array(img_padded) / 255.0  # Normalizacja [0, 1]\n",
    "\n",
    "        # Wczytaj ground truth (liczba osób)\n",
    "        mat = scipy.io.loadmat(mat_path)\n",
    "        count = len(mat['image_info'][0][0][0][0][0])\n",
    "\n",
    "        X.append(img_array)\n",
    "        y.append(count)\n",
    "\n",
    "    return np.array(X), np.array(y)"
   ]
  },
  {
   "cell_type": "markdown",
   "id": "05ffd0a0-acca-4279-8bc5-e376510ccb8e",
   "metadata": {},
   "source": [
    "## Building the model"
   ]
  },
  {
   "cell_type": "code",
   "execution_count": 10,
   "id": "2fc9bf97-7b12-4ae3-aba3-e6466a3714ed",
   "metadata": {},
   "outputs": [],
   "source": [
    "base_model = MobileNet(include_top=False, input_shape=(224, 224, 3), weights='imagenet')\n",
    "base_model.trainable = False  # Zamroź warstwy\n",
    "\n",
    "model = models.Sequential([\n",
    "    base_model,\n",
    "    layers.GlobalAveragePooling2D(),\n",
    "    layers.Dense(64, activation='relu'),\n",
    "    layers.Dense(128, activation='relu'),\n",
    "    layers.Dense(256, activation='relu'),\n",
    "    layers.Dense(512, activation='relu'),\n",
    "    layers.Dense(256, activation='relu'),\n",
    "    layers.Dense(128, activation='relu'),\n",
    "    layers.Dense(64, activation='relu'),\n",
    "    layers.Dense(1)  # Wyjście\n",
    "])\n",
    "\n",
    "\n",
    "model.compile(optimizer=Adam(1e-4), loss='mse', metrics=['mae'])"
   ]
  },
  {
   "cell_type": "markdown",
   "id": "1bff3da5-c0fa-4375-bf78-b117a7e657de",
   "metadata": {},
   "source": [
    "## Getting the training set"
   ]
  },
  {
   "cell_type": "code",
   "execution_count": 11,
   "id": "2e93603f-cf58-4216-9b86-bdddeccd8c6f",
   "metadata": {},
   "outputs": [],
   "source": [
    "X_1, y_1 = load_dataset('ShanghaiTech/part_B/train_data/images/', 'ShanghaiTech/part_B/train_data/ground-truth/')"
   ]
  },
  {
   "cell_type": "code",
   "execution_count": 12,
   "id": "d8bf7356-5d1a-4aa2-b03a-5d797efd7c17",
   "metadata": {},
   "outputs": [],
   "source": [
    "X_2, y_2 = load_dataset('ShanghaiTech/part_B/test_data/images/', 'ShanghaiTech/part_B/test_data/ground-truth/')"
   ]
  },
  {
   "cell_type": "code",
   "execution_count": 13,
   "id": "093d8c7f-8eaf-4ded-a2b7-4913a6c424e6",
   "metadata": {},
   "outputs": [],
   "source": [
    "X = np.concatenate([X_1, X_2], axis=0)\n",
    "y = np.concatenate([y_1, y_2], axis=0)"
   ]
  },
  {
   "cell_type": "code",
   "execution_count": 19,
   "id": "e0e60a28-17ef-479a-a6ea-deed91679086",
   "metadata": {},
   "outputs": [],
   "source": [
    "X_train, X_test, y_train, y_test = train_test_split(X, y, test_size=0.2, random_state=0)"
   ]
  },
  {
   "cell_type": "code",
   "execution_count": 20,
   "id": "53930ede-cd7f-46bd-a885-19fa5bffad7f",
   "metadata": {},
   "outputs": [],
   "source": [
    "datagen = ImageDataGenerator(\n",
    "    horizontal_flip=True,\n",
    "    rotation_range=10,\n",
    "    zoom_range=0.1\n",
    ")"
   ]
  },
  {
   "cell_type": "code",
   "execution_count": 21,
   "id": "668d5a4f-4833-4a1a-8a68-521dceeeecf3",
   "metadata": {},
   "outputs": [
    {
     "name": "stdout",
     "output_type": "stream",
     "text": [
      "Epoch 1/20\n",
      "\u001b[1m23/23\u001b[0m \u001b[32m━━━━━━━━━━━━━━━━━━━━\u001b[0m\u001b[37m\u001b[0m \u001b[1m23s\u001b[0m 616ms/step - loss: 24806.8965 - mae: 126.2312 - val_loss: 20731.7012 - val_mae: 118.1945\n",
      "Epoch 2/20\n",
      "\u001b[1m23/23\u001b[0m \u001b[32m━━━━━━━━━━━━━━━━━━━━\u001b[0m\u001b[37m\u001b[0m \u001b[1m19s\u001b[0m 556ms/step - loss: 23193.2871 - mae: 119.4658 - val_loss: 14792.2236 - val_mae: 90.7764\n",
      "Epoch 3/20\n",
      "\u001b[1m23/23\u001b[0m \u001b[32m━━━━━━━━━━━━━━━━━━━━\u001b[0m\u001b[37m\u001b[0m \u001b[1m12s\u001b[0m 539ms/step - loss: 14742.8936 - mae: 85.4875 - val_loss: 7119.5195 - val_mae: 68.7774\n",
      "Epoch 4/20\n",
      "\u001b[1m23/23\u001b[0m \u001b[32m━━━━━━━━━━━━━━━━━━━━\u001b[0m\u001b[37m\u001b[0m \u001b[1m13s\u001b[0m 587ms/step - loss: 8921.2949 - mae: 73.7209 - val_loss: 6513.7744 - val_mae: 59.9585\n",
      "Epoch 5/20\n",
      "\u001b[1m23/23\u001b[0m \u001b[32m━━━━━━━━━━━━━━━━━━━━\u001b[0m\u001b[37m\u001b[0m \u001b[1m14s\u001b[0m 592ms/step - loss: 8655.0107 - mae: 69.6362 - val_loss: 6195.7178 - val_mae: 59.6191\n",
      "Epoch 6/20\n",
      "\u001b[1m23/23\u001b[0m \u001b[32m━━━━━━━━━━━━━━━━━━━━\u001b[0m\u001b[37m\u001b[0m \u001b[1m13s\u001b[0m 586ms/step - loss: 8237.7061 - mae: 68.1985 - val_loss: 5973.8647 - val_mae: 58.1395\n",
      "Epoch 7/20\n",
      "\u001b[1m23/23\u001b[0m \u001b[32m━━━━━━━━━━━━━━━━━━━━\u001b[0m\u001b[37m\u001b[0m \u001b[1m15s\u001b[0m 642ms/step - loss: 7899.8364 - mae: 66.8474 - val_loss: 5696.6655 - val_mae: 56.1375\n",
      "Epoch 8/20\n",
      "\u001b[1m23/23\u001b[0m \u001b[32m━━━━━━━━━━━━━━━━━━━━\u001b[0m\u001b[37m\u001b[0m \u001b[1m14s\u001b[0m 621ms/step - loss: 7468.2227 - mae: 64.6851 - val_loss: 5342.8042 - val_mae: 53.4312\n",
      "Epoch 9/20\n",
      "\u001b[1m23/23\u001b[0m \u001b[32m━━━━━━━━━━━━━━━━━━━━\u001b[0m\u001b[37m\u001b[0m \u001b[1m14s\u001b[0m 605ms/step - loss: 6887.0889 - mae: 61.7113 - val_loss: 4886.8105 - val_mae: 50.4759\n",
      "Epoch 10/20\n",
      "\u001b[1m23/23\u001b[0m \u001b[32m━━━━━━━━━━━━━━━━━━━━\u001b[0m\u001b[37m\u001b[0m \u001b[1m14s\u001b[0m 607ms/step - loss: 6152.3037 - mae: 57.8507 - val_loss: 4378.1934 - val_mae: 47.7964\n",
      "Epoch 11/20\n",
      "\u001b[1m23/23\u001b[0m \u001b[32m━━━━━━━━━━━━━━━━━━━━\u001b[0m\u001b[37m\u001b[0m \u001b[1m14s\u001b[0m 595ms/step - loss: 5334.0229 - mae: 53.2574 - val_loss: 3920.1545 - val_mae: 45.5916\n",
      "Epoch 12/20\n",
      "\u001b[1m23/23\u001b[0m \u001b[32m━━━━━━━━━━━━━━━━━━━━\u001b[0m\u001b[37m\u001b[0m \u001b[1m13s\u001b[0m 558ms/step - loss: 4580.2729 - mae: 48.6746 - val_loss: 3590.8782 - val_mae: 43.4725\n",
      "Epoch 13/20\n",
      "\u001b[1m23/23\u001b[0m \u001b[32m━━━━━━━━━━━━━━━━━━━━\u001b[0m\u001b[37m\u001b[0m \u001b[1m13s\u001b[0m 561ms/step - loss: 4001.8970 - mae: 44.7566 - val_loss: 3230.8389 - val_mae: 40.4041\n",
      "Epoch 14/20\n",
      "\u001b[1m23/23\u001b[0m \u001b[32m━━━━━━━━━━━━━━━━━━━━\u001b[0m\u001b[37m\u001b[0m \u001b[1m17s\u001b[0m 742ms/step - loss: 3531.5840 - mae: 41.5301 - val_loss: 2908.7268 - val_mae: 37.7831\n",
      "Epoch 15/20\n",
      "\u001b[1m23/23\u001b[0m \u001b[32m━━━━━━━━━━━━━━━━━━━━\u001b[0m\u001b[37m\u001b[0m \u001b[1m14s\u001b[0m 620ms/step - loss: 3126.7563 - mae: 38.7510 - val_loss: 2681.1289 - val_mae: 36.0841\n",
      "Epoch 16/20\n",
      "\u001b[1m23/23\u001b[0m \u001b[32m━━━━━━━━━━━━━━━━━━━━\u001b[0m\u001b[37m\u001b[0m \u001b[1m15s\u001b[0m 680ms/step - loss: 2805.5637 - mae: 36.6773 - val_loss: 2487.0684 - val_mae: 34.8160\n",
      "Epoch 17/20\n",
      "\u001b[1m23/23\u001b[0m \u001b[32m━━━━━━━━━━━━━━━━━━━━\u001b[0m\u001b[37m\u001b[0m \u001b[1m15s\u001b[0m 676ms/step - loss: 2532.6045 - mae: 35.0829 - val_loss: 2306.7100 - val_mae: 33.7567\n",
      "Epoch 18/20\n",
      "\u001b[1m23/23\u001b[0m \u001b[32m━━━━━━━━━━━━━━━━━━━━\u001b[0m\u001b[37m\u001b[0m \u001b[1m23s\u001b[0m 1s/step - loss: 2305.9492 - mae: 33.7639 - val_loss: 2127.7961 - val_mae: 32.7871\n",
      "Epoch 19/20\n",
      "\u001b[1m23/23\u001b[0m \u001b[32m━━━━━━━━━━━━━━━━━━━━\u001b[0m\u001b[37m\u001b[0m \u001b[1m17s\u001b[0m 728ms/step - loss: 2107.9741 - mae: 32.5431 - val_loss: 1964.5645 - val_mae: 31.8333\n",
      "Epoch 20/20\n",
      "\u001b[1m23/23\u001b[0m \u001b[32m━━━━━━━━━━━━━━━━━━━━\u001b[0m\u001b[37m\u001b[0m \u001b[1m14s\u001b[0m 603ms/step - loss: 1939.0449 - mae: 31.4399 - val_loss: 1811.9213 - val_mae: 30.9272\n"
     ]
    }
   ],
   "source": [
    "dataset = tf.data.Dataset.from_tensor_slices((X, y)).batch(32)\n",
    "history = model.fit(dataset, batch_size=32,\n",
    "    epochs=20, validation_data=(X_test, y_test)\n",
    ")"
   ]
  },
  {
   "cell_type": "code",
   "execution_count": 153,
   "id": "c0494676-0e56-4fd4-9402-c413db544d83",
   "metadata": {},
   "outputs": [
    {
     "data": {
      "image/png": "[encoded data removed]",
      "text/plain": [
       "<Figure size 1200x500 with 2 Axes>"
      ]
     },
     "metadata": {},
     "output_type": "display_data"
    }
   ],
   "source": [
    "history_dict = history.history\n",
    "\n",
    "# Getting the metrics\n",
    "mae = history_dict['mae']\n",
    "val_mae = history_dict.get('val_mae')\n",
    "loss = history_dict['loss']\n",
    "val_loss = history_dict.get('val_loss')\n",
    "\n",
    "epochs = range(1, len(mae) + 1)\n",
    "\n",
    "# MAE\n",
    "plt.figure(figsize=(12, 5))\n",
    "\n",
    "plt.subplot(1, 2, 1)\n",
    "plt.plot(epochs, mae, 'b-', label='Training')\n",
    "if val_mae:\n",
    "    plt.plot(epochs, val_mae, 'r-', label='Validation')\n",
    "plt.title('Model MAE')\n",
    "plt.xlabel('Epoch')\n",
    "plt.ylabel('MAE')\n",
    "plt.legend()\n",
    "\n",
    "# Loss (MSE)\n",
    "plt.subplot(1, 2, 2)\n",
    "plt.plot(epochs, loss, 'b-', label='Training')\n",
    "if val_loss:\n",
    "    plt.plot(epochs, val_loss, 'r-', label='Validation')\n",
    "plt.title('Model MSE')\n",
    "plt.xlabel('Epoch')\n",
    "plt.ylabel('MSE')\n",
    "plt.legend()\n",
    "\n",
    "plt.tight_layout()\n",
    "plt.show()\n"
   ]
  },
  {
   "cell_type": "code",
   "execution_count": 166,
   "id": "b10f2622-c643-411a-8ee6-2f4d6a68cb1a",
   "metadata": {},
   "outputs": [
    {
     "name": "stdout",
     "output_type": "stream",
     "text": [
      "\u001b[1m5/5\u001b[0m \u001b[32m━━━━━━━━━━━━━━━━━━━━\u001b[0m\u001b[37m\u001b[0m \u001b[1m4s\u001b[0m 855ms/step\n"
     ]
    }
   ],
   "source": [
    "y_pred = model.predict(X_test)"
   ]
  },
  {
   "cell_type": "code",
   "execution_count": 167,
   "id": "36163fde-eac1-4a6a-91c8-fe59363b1048",
   "metadata": {},
   "outputs": [
    {
     "name": "stdout",
     "output_type": "stream",
     "text": [
      "[[1.07543755 5.05624581]\n",
      " [0.96062714 5.59098698]\n",
      " [0.92978436 4.46590812]\n",
      " [1.04131579 4.9698133 ]\n",
      " [1.04501879 4.00733319]\n",
      " [0.86264056 3.61091791]\n",
      " [0.89311159 3.8918203 ]\n",
      " [0.86697841 3.76120012]\n",
      " [0.97670925 4.77912349]\n",
      " [0.87706524 5.64190707]\n",
      " [0.88323253 4.67282883]\n",
      " [1.02374649 3.58351894]\n",
      " [1.05665326 4.93447393]\n",
      " [1.06410873 5.52942909]\n",
      " [1.00950456 4.82028157]\n",
      " [1.03236711 4.99043259]\n",
      " [0.90945584 4.31748811]\n",
      " [0.90394419 4.86753445]\n",
      " [0.87970066 4.4543473 ]\n",
      " [0.96529549 5.17614973]\n",
      " [0.93063074 4.17438727]\n",
      " [0.90768301 3.36729583]\n",
      " [1.00408256 4.89034913]\n",
      " [0.96261102 4.54329478]\n",
      " [0.90868849 5.70044357]\n",
      " [1.08041036 5.38449506]\n",
      " [0.99953038 4.12713439]\n",
      " [0.94823891 4.71849887]\n",
      " [0.88295853 4.47733681]\n",
      " [0.97574776 3.98898405]\n",
      " [1.16782331 4.30406509]\n",
      " [0.94222355 4.55387689]\n",
      " [0.95489317 5.58349631]\n",
      " [0.95937008 5.11799381]\n",
      " [1.10455835 3.36729583]\n",
      " [0.95707875 4.2341065 ]\n",
      " [1.05265605 5.43807931]\n",
      " [0.9033674  5.11198779]\n",
      " [0.87938309 3.58351894]\n",
      " [0.83453614 4.20469262]\n",
      " [0.970065   3.87120101]\n",
      " [0.98259217 4.89034913]\n",
      " [0.72882253 4.11087386]\n",
      " [0.99632096 5.01727984]\n",
      " [0.88505447 3.66356165]\n",
      " [0.93645698 4.38202663]\n",
      " [0.99396688 4.82028157]\n",
      " [0.8939811  4.06044301]\n",
      " [0.81598794 4.06044301]\n",
      " [1.07174516 4.55387689]\n",
      " [0.8436054  3.58351894]\n",
      " [0.86282212 3.09104245]\n",
      " [1.0304513  4.74493213]\n",
      " [0.93970698 5.31811999]\n",
      " [0.88536912 3.36729583]\n",
      " [0.96062213 3.95124372]\n",
      " [1.12073708 5.07517382]\n",
      " [0.96350175 3.61091791]\n",
      " [0.96584004 4.8978398 ]\n",
      " [1.03634751 5.04985601]\n",
      " [0.88466293 4.58496748]\n",
      " [0.92140406 5.62762111]\n",
      " [0.95638764 4.00733319]\n",
      " [0.88623136 3.25809654]\n",
      " [0.84690636 3.40119738]\n",
      " [0.90105444 4.39444915]\n",
      " [0.94529718 4.65396035]\n",
      " [1.07987702 4.68213123]\n",
      " [0.94541448 5.84354442]\n",
      " [0.99261796 5.32787617]\n",
      " [0.96598679 4.4308168 ]\n",
      " [0.98497397 4.89034913]\n",
      " [0.99313992 4.44265126]\n",
      " [1.14016986 5.10594547]\n",
      " [0.94739521 4.65396035]\n",
      " [0.99705327 4.96284463]\n",
      " [1.03816354 5.46383181]\n",
      " [0.9469772  3.29583687]\n",
      " [0.86746293 5.58724866]\n",
      " [1.00417483 4.67282883]\n",
      " [0.97181016 3.80666249]\n",
      " [0.95339632 5.14166356]\n",
      " [0.96230918 4.27666612]\n",
      " [1.10092807 4.26267988]\n",
      " [0.89154214 5.34710753]\n",
      " [1.20182002 5.0369526 ]\n",
      " [1.07703531 4.00733319]\n",
      " [1.04668701 5.38449506]\n",
      " [0.9885928  4.91998093]\n",
      " [0.92163891 4.65396035]\n",
      " [1.07628715 4.31748811]\n",
      " [0.91192794 3.29583687]\n",
      " [0.92408675 4.88280192]\n",
      " [1.04654622 4.11087386]\n",
      " [0.89244121 3.29583687]\n",
      " [0.88261843 4.69134788]\n",
      " [0.83917797 4.14313473]\n",
      " [0.95789665 4.94164242]\n",
      " [1.03252614 3.8918203 ]\n",
      " [0.9577195  4.46590812]\n",
      " [0.90986288 5.70378247]\n",
      " [0.92431104 4.80402104]\n",
      " [1.00739658 5.17614973]\n",
      " [0.92952216 3.8918203 ]\n",
      " [0.90037709 4.07753744]\n",
      " [0.84531885 3.4339872 ]\n",
      " [1.06114674 5.11799381]\n",
      " [0.95221788 3.78418963]\n",
      " [1.00142157 5.18178355]\n",
      " [0.89472032 3.52636052]\n",
      " [1.0151577  4.77912349]\n",
      " [0.99359673 4.62497281]\n",
      " [0.99361831 4.99043259]\n",
      " [1.03147733 4.12713439]\n",
      " [0.95600814 4.97673374]\n",
      " [1.05730855 4.88280192]\n",
      " [0.97688282 4.26267988]\n",
      " [1.14353442 6.29156914]\n",
      " [1.03960502 5.49716823]\n",
      " [1.00103784 5.5683445 ]\n",
      " [1.05688882 5.6167711 ]\n",
      " [0.74786693 3.73766962]\n",
      " [0.97305578 4.57471098]\n",
      " [0.91848809 5.30330491]\n",
      " [1.04392338 4.51085951]\n",
      " [0.91646302 5.0937502 ]\n",
      " [0.79605401 4.31748811]\n",
      " [1.03941393 4.7095302 ]\n",
      " [0.91983682 5.6454469 ]\n",
      " [0.99940205 4.70048037]\n",
      " [1.05920279 4.39444915]\n",
      " [0.81121999 5.57972983]\n",
      " [1.12132525 4.67282883]\n",
      " [0.86666054 4.55387689]\n",
      " [0.98390543 2.7080502 ]\n",
      " [0.99334782 3.78418963]\n",
      " [1.00173271 5.53338949]\n",
      " [1.05420029 4.21950771]\n",
      " [0.82644743 4.04305127]\n",
      " [1.16664815 4.83628191]\n",
      " [1.08764243 4.83628191]\n",
      " [0.93508214 5.36597602]\n",
      " [1.02281988 5.43807931]\n",
      " [0.96574903 5.12989871]]\n"
     ]
    }
   ],
   "source": [
    "y_pred.reshape(len(y_pred), 1)\n",
    "y_test.reshape(len(y_test), 1)\n",
    "print(np.concatenate((y_pred.reshape(len(y_pred), 1), y_test.reshape(len(y_test), 1)), 1))"
   ]
  },
  {
   "cell_type": "code",
   "execution_count": 168,
   "id": "a2c4eb5b-4734-41ec-888f-7a34a8407164",
   "metadata": {},
   "outputs": [
    {
     "data": {
      "text/plain": [
       "-27.355559285354847"
      ]
     },
     "execution_count": 168,
     "metadata": {},
     "output_type": "execute_result"
    }
   ],
   "source": [
    "from sklearn.metrics import r2_score\n",
    "r2_score(y_test, y_pred)"
   ]
  }
 ],
 "metadata": {
  "kernelspec": {
   "display_name": "cnn_e",
   "language": "python",
   "name": "cnn_e"
  },
  "language_info": {
   "codemirror_mode": {
    "name": "ipython",
    "version": 3
   },
   "file_extension": ".py",
   "mimetype": "text/x-python",
   "name": "python",
   "nbconvert_exporter": "python",
   "pygments_lexer": "ipython3",
   "version": "3.11.13"
  }
 },
 "nbformat": 4,
 "nbformat_minor": 5
}
