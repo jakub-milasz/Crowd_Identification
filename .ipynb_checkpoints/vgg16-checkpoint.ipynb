{
 "cells": [
  {
   "cell_type": "markdown",
   "id": "ea969bd1-0013-49bb-bb11-6b1a0f008fc3",
   "metadata": {},
   "source": [
    "## Importing libraries"
   ]
  },
  {
   "cell_type": "code",
   "execution_count": 16,
   "id": "4f9b7418-2245-4d07-9fc0-5c92a336289b",
   "metadata": {},
   "outputs": [],
   "source": [
    "import os\n",
    "import tensorflow as tf\n",
    "from tensorflow.keras.applications import VGG16\n",
    "from tensorflow.keras.models import Model\n",
    "from tensorflow.keras.layers import RandomFlip, RandomRotation, RandomZoom\n",
    "from tensorflow.keras.applications.vgg16 import preprocess_input\n",
    "import cv2\n",
    "import numpy as np\n",
    "import scipy.io\n",
    "from scipy.ndimage import gaussian_filter\n",
    "from scipy.spatial import KDTree\n",
    "import matplotlib.pyplot as plt\n",
    "from tensorflow.keras.preprocessing.image import load_img, img_to_array\n",
    "from tensorflow.keras.preprocessing.image import ImageDataGenerator\n",
    "from tensorflow.keras.optimizers import Adam\n",
    "from tensorflow.keras import layers, models, optimizers\n",
    "from PIL import Image, ImageOps\n",
    "from sklearn.model_selection import train_test_split"
   ]
  },
  {
   "cell_type": "markdown",
   "id": "8cf9df0a-774d-45fd-8f3f-fb3718bf84fe",
   "metadata": {},
   "source": [
    "## Loading and Modifying the VGG16 Model"
   ]
  },
  {
   "cell_type": "code",
   "execution_count": 9,
   "id": "bd680428-02cb-4464-814f-96b23820490b",
   "metadata": {},
   "outputs": [],
   "source": [
    "base_model = VGG16(weights=\"imagenet\", include_top=False, input_shape=(224, 224, 3))\n",
    "base_model.trainable = False ## Not trainable weights\n",
    "\n",
    "model = models.Sequential([\n",
    "    base_model,\n",
    "    layers.Flatten(),\n",
    "    layers.Dropout(0.3),\n",
    "    layers.Dense(128, activation='relu'),\n",
    "    layers.Dropout(0.3),\n",
    "    layers.Dense(64, activation='relu'),\n",
    "    layers.Dense(1, activation='linear')\n",
    "])\n",
    "\n",
    "\n",
    "model.compile(optimizer=Adam(1e-4), loss='mse', metrics=['mae'])"
   ]
  },
  {
   "cell_type": "markdown",
   "id": "58fde071-b1b1-44da-affb-323413826f7a",
   "metadata": {},
   "source": [
    "## Data Preparation and Transformation"
   ]
  },
  {
   "cell_type": "code",
   "execution_count": 10,
   "id": "8f11681c-a407-4e12-b64e-a11ec8525ebc",
   "metadata": {},
   "outputs": [],
   "source": [
    "def load_dataset(image_dir, gt_dir, target_size=(224, 224)):\n",
    "    X = []\n",
    "    y = []\n",
    "    c = 0\n",
    "    image_files = [f for f in os.listdir(image_dir) if f.endswith('.jpg')]\n",
    "    image_files.sort()  # opcjonalnie\n",
    "\n",
    "    if not image_files:\n",
    "        raise ValueError(\"Brak plików .jpg w podanym katalogu!\")\n",
    "\n",
    "    for img_file in image_files:\n",
    "        img_path = os.path.join(image_dir, img_file)\n",
    "        mat_path = os.path.join(gt_dir, 'GT_' + img_file.replace('.jpg', '.mat'))\n",
    "\n",
    "        # Wczytaj i przeskaluj obraz do dokładnego rozmiaru target_size (bez paddingu)\n",
    "        img = Image.open(img_path).convert('RGB')\n",
    "        img_resized = img.resize(target_size, Image.LANCZOS)\n",
    "\n",
    "        # Konwersja do numpy + preprocess_input (dla MobileNet)\n",
    "        img_array = np.array(img_resized, dtype=np.float32)\n",
    "        img_array = preprocess_input(img_array)\n",
    "\n",
    "        # Wczytaj ground truth (liczba osób)\n",
    "        mat = scipy.io.loadmat(mat_path)\n",
    "        count = len(mat['image_info'][0][0][0][0][0])\n",
    "\n",
    "        X.append(img_array)\n",
    "        y.append(count)\n",
    "        # if c == 1:\n",
    "        #     plt.imshow(img_resized)\n",
    "        #     print(img_path)\n",
    "        #     print(count)\n",
    "        #     break\n",
    "        # c += 1\n",
    "\n",
    "    return np.array(X), np.array(y)"
   ]
  },
  {
   "cell_type": "markdown",
   "id": "d26fe5f4-87a2-40fc-84bf-5315d59b213c",
   "metadata": {},
   "source": [
    "## Training the Model"
   ]
  },
  {
   "cell_type": "code",
   "execution_count": 11,
   "id": "8740cc8f-e75a-4dcc-82d2-6796a2c8d7bc",
   "metadata": {},
   "outputs": [],
   "source": [
    "X_1, y_1 = load_dataset('ShanghaiTech/part_B/train_data/images/', 'ShanghaiTech/part_B/train_data/ground-truth/')"
   ]
  },
  {
   "cell_type": "code",
   "execution_count": 12,
   "id": "d3e7789b-9dc4-40b5-b129-58132c4451b6",
   "metadata": {},
   "outputs": [],
   "source": [
    "X_2, y_2 = load_dataset('ShanghaiTech/part_B/test_data/images/', 'ShanghaiTech/part_B/test_data/ground-truth/')"
   ]
  },
  {
   "cell_type": "code",
   "execution_count": 13,
   "id": "62cc5d38-c306-48a4-aa5b-dfa3e64eed57",
   "metadata": {},
   "outputs": [],
   "source": [
    "X = np.concatenate([X_1, X_2], axis=0)\n",
    "y = np.concatenate([y_1, y_2], axis=0)"
   ]
  },
  {
   "cell_type": "code",
   "execution_count": 14,
   "id": "e80daa4f-b05c-4f48-b475-ddc6ad607b83",
   "metadata": {},
   "outputs": [],
   "source": [
    "X_train, X_test, y_train, y_test = train_test_split(X, y, test_size=0.2, random_state=0)"
   ]
  },
  {
   "cell_type": "code",
   "execution_count": 17,
   "id": "93dc212f-78bc-4d20-a541-caa403cae8f8",
   "metadata": {},
   "outputs": [
    {
     "name": "stdout",
     "output_type": "stream",
     "text": [
      "Epoch 1/20\n",
      "\u001b[1m18/18\u001b[0m \u001b[32m━━━━━━━━━━━━━━━━━━━━\u001b[0m\u001b[37m\u001b[0m \u001b[1m142s\u001b[0m 8s/step - loss: 14522.3984 - mae: 88.7917 - val_loss: 6266.5283 - val_mae: 60.3596\n",
      "Epoch 2/20\n",
      "\u001b[1m18/18\u001b[0m \u001b[32m━━━━━━━━━━━━━━━━━━━━\u001b[0m\u001b[37m\u001b[0m \u001b[1m145s\u001b[0m 8s/step - loss: 8301.7891 - mae: 68.5424 - val_loss: 5295.8584 - val_mae: 53.3449\n",
      "Epoch 3/20\n",
      "\u001b[1m18/18\u001b[0m \u001b[32m━━━━━━━━━━━━━━━━━━━━\u001b[0m\u001b[37m\u001b[0m \u001b[1m138s\u001b[0m 8s/step - loss: 7176.7837 - mae: 63.1834 - val_loss: 4732.0942 - val_mae: 47.4173\n",
      "Epoch 4/20\n",
      "\u001b[1m18/18\u001b[0m \u001b[32m━━━━━━━━━━━━━━━━━━━━\u001b[0m\u001b[37m\u001b[0m \u001b[1m140s\u001b[0m 8s/step - loss: 5707.4980 - mae: 53.1987 - val_loss: 4524.4204 - val_mae: 48.0199\n",
      "Epoch 5/20\n",
      "\u001b[1m18/18\u001b[0m \u001b[32m━━━━━━━━━━━━━━━━━━━━\u001b[0m\u001b[37m\u001b[0m \u001b[1m137s\u001b[0m 8s/step - loss: 5420.0078 - mae: 52.9318 - val_loss: 4327.6362 - val_mae: 45.0050\n",
      "Epoch 6/20\n",
      "\u001b[1m18/18\u001b[0m \u001b[32m━━━━━━━━━━━━━━━━━━━━\u001b[0m\u001b[37m\u001b[0m \u001b[1m139s\u001b[0m 8s/step - loss: 4469.0166 - mae: 45.3687 - val_loss: 4184.5410 - val_mae: 44.8778\n",
      "Epoch 7/20\n",
      "\u001b[1m18/18\u001b[0m \u001b[32m━━━━━━━━━━━━━━━━━━━━\u001b[0m\u001b[37m\u001b[0m \u001b[1m139s\u001b[0m 8s/step - loss: 4347.1895 - mae: 45.2838 - val_loss: 3982.0000 - val_mae: 41.8206\n",
      "Epoch 8/20\n",
      "\u001b[1m18/18\u001b[0m \u001b[32m━━━━━━━━━━━━━━━━━━━━\u001b[0m\u001b[37m\u001b[0m \u001b[1m133s\u001b[0m 7s/step - loss: 3631.2283 - mae: 41.5054 - val_loss: 3936.5090 - val_mae: 40.4787\n",
      "Epoch 9/20\n",
      "\u001b[1m18/18\u001b[0m \u001b[32m━━━━━━━━━━━━━━━━━━━━\u001b[0m\u001b[37m\u001b[0m \u001b[1m130s\u001b[0m 7s/step - loss: 3551.0264 - mae: 41.0551 - val_loss: 3810.8560 - val_mae: 39.9649\n",
      "Epoch 10/20\n",
      "\u001b[1m18/18\u001b[0m \u001b[32m━━━━━━━━━━━━━━━━━━━━\u001b[0m\u001b[37m\u001b[0m \u001b[1m136s\u001b[0m 8s/step - loss: 3273.3892 - mae: 39.2275 - val_loss: 3832.7783 - val_mae: 39.5365\n",
      "Epoch 11/20\n",
      "\u001b[1m18/18\u001b[0m \u001b[32m━━━━━━━━━━━━━━━━━━━━\u001b[0m\u001b[37m\u001b[0m \u001b[1m137s\u001b[0m 8s/step - loss: 3402.6602 - mae: 39.6733 - val_loss: 3793.0664 - val_mae: 39.2537\n",
      "Epoch 12/20\n",
      "\u001b[1m18/18\u001b[0m \u001b[32m━━━━━━━━━━━━━━━━━━━━\u001b[0m\u001b[37m\u001b[0m \u001b[1m137s\u001b[0m 8s/step - loss: 2908.8313 - mae: 37.7910 - val_loss: 3794.9319 - val_mae: 40.1591\n",
      "Epoch 13/20\n",
      "\u001b[1m18/18\u001b[0m \u001b[32m━━━━━━━━━━━━━━━━━━━━\u001b[0m\u001b[37m\u001b[0m \u001b[1m137s\u001b[0m 8s/step - loss: 2939.4912 - mae: 38.0411 - val_loss: 3620.3635 - val_mae: 37.5566\n",
      "Epoch 14/20\n",
      "\u001b[1m18/18\u001b[0m \u001b[32m━━━━━━━━━━━━━━━━━━━━\u001b[0m\u001b[37m\u001b[0m \u001b[1m143s\u001b[0m 8s/step - loss: 2976.4680 - mae: 37.0312 - val_loss: 3692.0039 - val_mae: 37.8246\n",
      "Epoch 15/20\n",
      "\u001b[1m18/18\u001b[0m \u001b[32m━━━━━━━━━━━━━━━━━━━━\u001b[0m\u001b[37m\u001b[0m \u001b[1m136s\u001b[0m 8s/step - loss: 2967.2185 - mae: 36.3652 - val_loss: 3842.5881 - val_mae: 38.8799\n",
      "Epoch 16/20\n",
      "\u001b[1m18/18\u001b[0m \u001b[32m━━━━━━━━━━━━━━━━━━━━\u001b[0m\u001b[37m\u001b[0m \u001b[1m126s\u001b[0m 7s/step - loss: 3068.3545 - mae: 36.4153 - val_loss: 3639.7415 - val_mae: 37.0877\n",
      "Epoch 17/20\n",
      "\u001b[1m18/18\u001b[0m \u001b[32m━━━━━━━━━━━━━━━━━━━━\u001b[0m\u001b[37m\u001b[0m \u001b[1m126s\u001b[0m 7s/step - loss: 2566.8457 - mae: 34.8479 - val_loss: 3810.7783 - val_mae: 38.3353\n",
      "Epoch 18/20\n",
      "\u001b[1m18/18\u001b[0m \u001b[32m━━━━━━━━━━━━━━━━━━━━\u001b[0m\u001b[37m\u001b[0m \u001b[1m138s\u001b[0m 7s/step - loss: 2366.2065 - mae: 33.6654 - val_loss: 3798.4778 - val_mae: 38.5365\n",
      "Epoch 19/20\n",
      "\u001b[1m18/18\u001b[0m \u001b[32m━━━━━━━━━━━━━━━━━━━━\u001b[0m\u001b[37m\u001b[0m \u001b[1m124s\u001b[0m 7s/step - loss: 2377.6963 - mae: 32.6387 - val_loss: 3781.4163 - val_mae: 38.8839\n",
      "Epoch 20/20\n",
      "\u001b[1m18/18\u001b[0m \u001b[32m━━━━━━━━━━━━━━━━━━━━\u001b[0m\u001b[37m\u001b[0m \u001b[1m124s\u001b[0m 7s/step - loss: 2161.1726 - mae: 32.9422 - val_loss: 3813.0374 - val_mae: 39.8944\n"
     ]
    }
   ],
   "source": [
    "training_set = tf.data.Dataset.from_tensor_slices((X_train, y_train)).batch(32)\n",
    "\n",
    "# Function to augment\n",
    "data_augmentation = tf.keras.Sequential([\n",
    "    RandomFlip(\"horizontal\"),\n",
    "    RandomRotation(0.1),\n",
    "    RandomZoom(0.1),\n",
    "])\n",
    "\n",
    "def augment(x, y):\n",
    "    return data_augmentation(x), y\n",
    "\n",
    "training_set = tf.data.Dataset.from_tensor_slices((X_train, y_train))\n",
    "training_set = training_set.map(augment)  # augment\n",
    "training_set = training_set.batch(32).prefetch(tf.data.AUTOTUNE)\n",
    "history = model.fit(training_set, batch_size=32,\n",
    "    epochs=20, validation_data=(X_test, y_test)\n",
    ")"
   ]
  },
  {
   "cell_type": "markdown",
   "id": "6982af43-d3ab-42bb-9339-ac1c252c7de2",
   "metadata": {},
   "source": [
    "## Testing the model"
   ]
  },
  {
   "cell_type": "code",
   "execution_count": 18,
   "id": "b8a40bee-4257-4124-ab5f-5db54d82d847",
   "metadata": {},
   "outputs": [
    {
     "data": {
      "image/png": "[encoded data removed]",
      "text/plain": [
       "<Figure size 1200x500 with 2 Axes>"
      ]
     },
     "metadata": {},
     "output_type": "display_data"
    }
   ],
   "source": [
    "history_dict = history.history\n",
    "\n",
    "# Getting the metrics\n",
    "mae = history_dict['mae']\n",
    "val_mae = history_dict.get('val_mae')\n",
    "loss = history_dict['loss']\n",
    "val_loss = history_dict.get('val_loss')\n",
    "\n",
    "epochs = range(1, len(mae) + 1)\n",
    "\n",
    "# MAE\n",
    "plt.figure(figsize=(12, 5))\n",
    "\n",
    "plt.subplot(1, 2, 1)\n",
    "plt.plot(epochs, mae, 'b-', label='Training')\n",
    "if val_mae:\n",
    "    plt.plot(epochs, val_mae, 'r-', label='Validation')\n",
    "plt.title('Model MAE')\n",
    "plt.xlabel('Epoch')\n",
    "plt.ylabel('MAE')\n",
    "plt.legend()\n",
    "\n",
    "# Loss (MSE)\n",
    "plt.subplot(1, 2, 2)\n",
    "plt.plot(epochs, loss, 'b-', label='Training')\n",
    "if val_loss:\n",
    "    plt.plot(epochs, val_loss, 'r-', label='Validation')\n",
    "plt.title('Model MSE')\n",
    "plt.xlabel('Epoch')\n",
    "plt.ylabel('MSE')\n",
    "plt.legend()\n",
    "\n",
    "plt.tight_layout()\n",
    "plt.show()"
   ]
  },
  {
   "cell_type": "code",
   "execution_count": 19,
   "id": "d55fe3b3-45bc-4070-a619-b10257128f0f",
   "metadata": {},
   "outputs": [
    {
     "name": "stdout",
     "output_type": "stream",
     "text": [
      "\u001b[1m5/5\u001b[0m \u001b[32m━━━━━━━━━━━━━━━━━━━━\u001b[0m\u001b[37m\u001b[0m \u001b[1m24s\u001b[0m 5s/step\n"
     ]
    }
   ],
   "source": [
    "y_pred = np.round(model.predict(X_test))"
   ]
  },
  {
   "cell_type": "code",
   "execution_count": 20,
   "id": "eb812084-9efe-44e7-8651-faccefecd134",
   "metadata": {},
   "outputs": [
    {
     "name": "stdout",
     "output_type": "stream",
     "text": [
      "[[179. 156.]\n",
      " [105. 267.]\n",
      " [117.  86.]\n",
      " [194. 143.]\n",
      " [ 43.  54.]\n",
      " [ 29.  36.]\n",
      " [ 28.  48.]\n",
      " [ 29.  42.]\n",
      " [ 78. 118.]\n",
      " [128. 281.]\n",
      " [170. 106.]\n",
      " [ 25.  35.]\n",
      " [273. 138.]\n",
      " [296. 251.]\n",
      " [ 77. 123.]\n",
      " [221. 146.]\n",
      " [113.  74.]\n",
      " [165. 129.]\n",
      " [ 94.  85.]\n",
      " [202. 176.]\n",
      " [ 53.  64.]\n",
      " [ 21.  28.]\n",
      " [ 98. 132.]\n",
      " [154.  93.]\n",
      " [261. 298.]\n",
      " [233. 217.]\n",
      " [ 88.  61.]\n",
      " [144. 111.]\n",
      " [ 86.  87.]\n",
      " [ 51.  53.]\n",
      " [ 60.  73.]\n",
      " [ 86.  94.]\n",
      " [263. 265.]\n",
      " [196. 166.]\n",
      " [ 26.  28.]\n",
      " [ 51.  68.]\n",
      " [203. 229.]\n",
      " [211. 165.]\n",
      " [ 31.  35.]\n",
      " [ 66.  66.]\n",
      " [ 23.  47.]\n",
      " [184. 132.]\n",
      " [ 51.  60.]\n",
      " [256. 150.]\n",
      " [ 45.  38.]\n",
      " [ 61.  79.]\n",
      " [153. 123.]\n",
      " [ 46.  57.]\n",
      " [102.  57.]\n",
      " [102.  94.]\n",
      " [ 89.  35.]\n",
      " [ 32.  21.]\n",
      " [225. 114.]\n",
      " [ 78. 203.]\n",
      " [ 15.  28.]\n",
      " [ 24.  51.]\n",
      " [234. 159.]\n",
      " [ 27.  36.]\n",
      " [103. 133.]\n",
      " [209. 155.]\n",
      " [ 64.  97.]\n",
      " [282. 277.]\n",
      " [ 22.  54.]\n",
      " [ 23.  25.]\n",
      " [ 43.  29.]\n",
      " [ 20.  80.]\n",
      " [ 67. 104.]\n",
      " [130. 107.]\n",
      " [181. 344.]\n",
      " [142. 205.]\n",
      " [ 62.  83.]\n",
      " [217. 132.]\n",
      " [ 52.  84.]\n",
      " [174. 164.]\n",
      " [ 93. 104.]\n",
      " [123. 142.]\n",
      " [204. 235.]\n",
      " [  7.  26.]\n",
      " [261. 266.]\n",
      " [ 87. 106.]\n",
      " [ 55.  44.]\n",
      " [275. 170.]\n",
      " [140.  71.]\n",
      " [ 91.  70.]\n",
      " [164. 209.]\n",
      " [262. 153.]\n",
      " [123.  54.]\n",
      " [270. 217.]\n",
      " [160. 136.]\n",
      " [112. 104.]\n",
      " [ 50.  74.]\n",
      " [ 32.  26.]\n",
      " [114. 131.]\n",
      " [ 33.  60.]\n",
      " [ 18.  26.]\n",
      " [180. 108.]\n",
      " [ 29.  62.]\n",
      " [163. 139.]\n",
      " [ 97.  48.]\n",
      " [ 72.  86.]\n",
      " [213. 299.]\n",
      " [162. 121.]\n",
      " [ 95. 176.]\n",
      " [ 68.  48.]\n",
      " [ 51.  58.]\n",
      " [ 31.  30.]\n",
      " [198. 166.]\n",
      " [ 30.  43.]\n",
      " [161. 177.]\n",
      " [ 40.  33.]\n",
      " [ 91. 118.]\n",
      " [173. 101.]\n",
      " [199. 146.]\n",
      " [ 52.  61.]\n",
      " [248. 144.]\n",
      " [169. 131.]\n",
      " [ 84.  70.]\n",
      " [120. 539.]\n",
      " [283. 243.]\n",
      " [286. 261.]\n",
      " [267. 274.]\n",
      " [ 37.  41.]\n",
      " [121.  96.]\n",
      " [219. 200.]\n",
      " [133.  90.]\n",
      " [ 72. 162.]\n",
      " [115.  74.]\n",
      " [ 97. 110.]\n",
      " [238. 282.]\n",
      " [ 70. 109.]\n",
      " [231.  80.]\n",
      " [251. 264.]\n",
      " [145. 106.]\n",
      " [172.  94.]\n",
      " [ 19.  14.]\n",
      " [ 39.  43.]\n",
      " [263. 252.]\n",
      " [104.  67.]\n",
      " [ 36.  56.]\n",
      " [ 34. 125.]\n",
      " [211. 125.]\n",
      " [150. 213.]\n",
      " [205. 229.]\n",
      " [200. 168.]]\n"
     ]
    }
   ],
   "source": [
    "y_pred.reshape(len(y_pred), 1)\n",
    "y_test.reshape(len(y_test), 1)\n",
    "print(np.concatenate((y_pred.reshape(len(y_pred), 1), y_test.reshape(len(y_test), 1)), 1))"
   ]
  },
  {
   "cell_type": "code",
   "execution_count": 21,
   "id": "bbc148fd-a8ed-402e-bc42-d445cb366caf",
   "metadata": {},
   "outputs": [
    {
     "data": {
      "text/plain": [
       "0.4355379343032837"
      ]
     },
     "execution_count": 21,
     "metadata": {},
     "output_type": "execute_result"
    }
   ],
   "source": [
    "from sklearn.metrics import r2_score\n",
    "r2_score(y_test, y_pred)"
   ]
  }
 ],
 "metadata": {
  "kernelspec": {
   "display_name": "cnn_e",
   "language": "python",
   "name": "cnn_e"
  },
  "language_info": {
   "codemirror_mode": {
    "name": "ipython",
    "version": 3
   },
   "file_extension": ".py",
   "mimetype": "text/x-python",
   "name": "python",
   "nbconvert_exporter": "python",
   "pygments_lexer": "ipython3",
   "version": "3.11.13"
  }
 },
 "nbformat": 4,
 "nbformat_minor": 5
}
