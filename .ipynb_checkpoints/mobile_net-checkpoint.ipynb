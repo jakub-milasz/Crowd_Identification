{
 "cells": [
  {
   "cell_type": "code",
   "execution_count": 43,
   "id": "e100bd86-fb84-431b-94ba-c26512bb1ca6",
   "metadata": {},
   "outputs": [],
   "source": [
    "import os\n",
    "import numpy as np\n",
    "import cv2\n",
    "import tensorflow as tf\n",
    "from tensorflow.keras.applications.mobilenet import preprocess_input\n",
    "from tensorflow.keras.preprocessing.image import load_img, img_to_array\n",
    "from tensorflow.keras.layers import RandomFlip, RandomRotation, RandomZoom\n",
    "from tensorflow.keras.optimizers import Adam\n",
    "import scipy.io\n",
    "import matplotlib.pyplot as plt\n",
    "from tensorflow.keras.applications import MobileNet\n",
    "from tensorflow.keras import layers, models, optimizers\n",
    "from PIL import Image, ImageOps\n",
    "from sklearn.model_selection import train_test_split\n",
    "from sklearn.utils import shuffle"
   ]
  },
  {
   "cell_type": "markdown",
   "id": "f522f398-f03b-486a-82a7-834e802387ad",
   "metadata": {},
   "source": [
    "## Reading data"
   ]
  },
  {
   "cell_type": "code",
   "execution_count": 44,
   "id": "9549c429-f36a-4559-bc3c-b0a9baf99a1e",
   "metadata": {},
   "outputs": [],
   "source": [
    "def load_dataset(image_dir, gt_dir, target_size=(224, 224)):\n",
    "    X = []\n",
    "    y = []\n",
    "    c = 0\n",
    "    image_files = [f for f in os.listdir(image_dir) if f.endswith('.jpg')]\n",
    "    image_files.sort()  # opcjonalnie\n",
    "\n",
    "    if not image_files:\n",
    "        raise ValueError(\"Brak plików .jpg w podanym katalogu!\")\n",
    "\n",
    "    for img_file in image_files:\n",
    "        img_path = os.path.join(image_dir, img_file)\n",
    "        mat_path = os.path.join(gt_dir, 'GT_' + img_file.replace('.jpg', '.mat'))\n",
    "\n",
    "        # Wczytaj i przeskaluj obraz do dokładnego rozmiaru target_size (bez paddingu)\n",
    "        img = Image.open(img_path).convert('RGB')\n",
    "        img_resized = img.resize(target_size, Image.LANCZOS)\n",
    "\n",
    "        # Konwersja do numpy + preprocess_input (dla MobileNet)\n",
    "        img_array = np.array(img_resized, dtype=np.float32)\n",
    "        img_array = preprocess_input(img_array)\n",
    "\n",
    "        # Wczytaj ground truth (liczba osób)\n",
    "        mat = scipy.io.loadmat(mat_path)\n",
    "        count = len(mat['image_info'][0][0][0][0][0])\n",
    "\n",
    "        X.append(img_array)\n",
    "        y.append(count)\n",
    "        # if c == 1:\n",
    "        #     plt.imshow(img_resized)\n",
    "        #     print(img_path)\n",
    "        #     print(count)\n",
    "        #     break\n",
    "        # c += 1\n",
    "\n",
    "    return np.array(X), np.array(y)\n"
   ]
  },
  {
   "cell_type": "markdown",
   "id": "05ffd0a0-acca-4279-8bc5-e376510ccb8e",
   "metadata": {},
   "source": [
    "## Building the model"
   ]
  },
  {
   "cell_type": "code",
   "execution_count": 45,
   "id": "2fc9bf97-7b12-4ae3-aba3-e6466a3714ed",
   "metadata": {},
   "outputs": [],
   "source": [
    "base_model = MobileNet(include_top=False, input_shape=(224, 224, 3), weights='imagenet')\n",
    "base_model.trainable = False  # Zamroź warstwy\n",
    "\n",
    "model = models.Sequential([\n",
    "    base_model,\n",
    "    layers.Flatten(),\n",
    "    layers.Dropout(0.3),\n",
    "    layers.Dense(128, activation='relu'),\n",
    "    layers.Dropout(0.3),\n",
    "    layers.Dense(64, activation='relu'),\n",
    "    layers.Dense(1, activation='linear')\n",
    "])\n",
    "\n",
    "\n",
    "model.compile(optimizer=Adam(1e-4), loss='mse', metrics=['mae'])"
   ]
  },
  {
   "cell_type": "markdown",
   "id": "1bff3da5-c0fa-4375-bf78-b117a7e657de",
   "metadata": {},
   "source": [
    "## Getting the training set"
   ]
  },
  {
   "cell_type": "code",
   "execution_count": 5,
   "id": "2e93603f-cf58-4216-9b86-bdddeccd8c6f",
   "metadata": {},
   "outputs": [],
   "source": [
    "X_1, y_1 = load_dataset('ShanghaiTech/part_B/train_data/images/', 'ShanghaiTech/part_B/train_data/ground-truth/')"
   ]
  },
  {
   "cell_type": "code",
   "execution_count": 6,
   "id": "d8bf7356-5d1a-4aa2-b03a-5d797efd7c17",
   "metadata": {},
   "outputs": [],
   "source": [
    "X_2, y_2 = load_dataset('ShanghaiTech/part_B/test_data/images/', 'ShanghaiTech/part_B/test_data/ground-truth/')"
   ]
  },
  {
   "cell_type": "code",
   "execution_count": 7,
   "id": "093d8c7f-8eaf-4ded-a2b7-4913a6c424e6",
   "metadata": {},
   "outputs": [],
   "source": [
    "X = np.concatenate([X_1, X_2], axis=0)\n",
    "y = np.concatenate([y_1, y_2], axis=0)"
   ]
  },
  {
   "cell_type": "code",
   "execution_count": 8,
   "id": "e0e60a28-17ef-479a-a6ea-deed91679086",
   "metadata": {},
   "outputs": [],
   "source": [
    "X_train, X_test, y_train, y_test = train_test_split(X, y, test_size=0.2, random_state=0)"
   ]
  },
  {
   "cell_type": "code",
   "execution_count": 46,
   "id": "668d5a4f-4833-4a1a-8a68-521dceeeecf3",
   "metadata": {},
   "outputs": [
    {
     "name": "stdout",
     "output_type": "stream",
     "text": [
      "Epoch 1/20\n",
      "\u001b[1m18/18\u001b[0m \u001b[32m━━━━━━━━━━━━━━━━━━━━\u001b[0m\u001b[37m\u001b[0m \u001b[1m19s\u001b[0m 780ms/step - loss: 15874.9316 - mae: 92.8259 - val_loss: 6644.1587 - val_mae: 67.9062\n",
      "Epoch 2/20\n",
      "\u001b[1m18/18\u001b[0m \u001b[32m━━━━━━━━━━━━━━━━━━━━\u001b[0m\u001b[37m\u001b[0m \u001b[1m13s\u001b[0m 720ms/step - loss: 8224.5518 - mae: 70.5173 - val_loss: 5408.1382 - val_mae: 50.5831\n",
      "Epoch 3/20\n",
      "\u001b[1m18/18\u001b[0m \u001b[32m━━━━━━━━━━━━━━━━━━━━\u001b[0m\u001b[37m\u001b[0m \u001b[1m14s\u001b[0m 754ms/step - loss: 6800.5586 - mae: 60.5688 - val_loss: 4817.1475 - val_mae: 47.9296\n",
      "Epoch 4/20\n",
      "\u001b[1m18/18\u001b[0m \u001b[32m━━━━━━━━━━━━━━━━━━━━\u001b[0m\u001b[37m\u001b[0m \u001b[1m13s\u001b[0m 717ms/step - loss: 5899.2534 - mae: 55.9525 - val_loss: 4624.8218 - val_mae: 43.4759\n",
      "Epoch 5/20\n",
      "\u001b[1m18/18\u001b[0m \u001b[32m━━━━━━━━━━━━━━━━━━━━\u001b[0m\u001b[37m\u001b[0m \u001b[1m13s\u001b[0m 724ms/step - loss: 5482.8169 - mae: 51.1838 - val_loss: 4247.0327 - val_mae: 41.9345\n",
      "Epoch 6/20\n",
      "\u001b[1m18/18\u001b[0m \u001b[32m━━━━━━━━━━━━━━━━━━━━\u001b[0m\u001b[37m\u001b[0m \u001b[1m13s\u001b[0m 716ms/step - loss: 4691.5112 - mae: 48.5875 - val_loss: 4043.0051 - val_mae: 39.9025\n",
      "Epoch 7/20\n",
      "\u001b[1m18/18\u001b[0m \u001b[32m━━━━━━━━━━━━━━━━━━━━\u001b[0m\u001b[37m\u001b[0m \u001b[1m14s\u001b[0m 735ms/step - loss: 4058.5964 - mae: 43.6989 - val_loss: 3899.3269 - val_mae: 38.7176\n",
      "Epoch 8/20\n",
      "\u001b[1m18/18\u001b[0m \u001b[32m━━━━━━━━━━━━━━━━━━━━\u001b[0m\u001b[37m\u001b[0m \u001b[1m13s\u001b[0m 728ms/step - loss: 4038.6016 - mae: 43.9559 - val_loss: 3969.4348 - val_mae: 38.0148\n",
      "Epoch 9/20\n",
      "\u001b[1m18/18\u001b[0m \u001b[32m━━━━━━━━━━━━━━━━━━━━\u001b[0m\u001b[37m\u001b[0m \u001b[1m13s\u001b[0m 736ms/step - loss: 3630.7498 - mae: 40.8344 - val_loss: 3798.4888 - val_mae: 37.1844\n",
      "Epoch 10/20\n",
      "\u001b[1m18/18\u001b[0m \u001b[32m━━━━━━━━━━━━━━━━━━━━\u001b[0m\u001b[37m\u001b[0m \u001b[1m13s\u001b[0m 727ms/step - loss: 3702.0173 - mae: 40.5536 - val_loss: 3667.9033 - val_mae: 36.1268\n",
      "Epoch 11/20\n",
      "\u001b[1m18/18\u001b[0m \u001b[32m━━━━━━━━━━━━━━━━━━━━\u001b[0m\u001b[37m\u001b[0m \u001b[1m13s\u001b[0m 725ms/step - loss: 3367.8022 - mae: 39.8136 - val_loss: 3512.9385 - val_mae: 35.0804\n",
      "Epoch 12/20\n",
      "\u001b[1m18/18\u001b[0m \u001b[32m━━━━━━━━━━━━━━━━━━━━\u001b[0m\u001b[37m\u001b[0m \u001b[1m13s\u001b[0m 722ms/step - loss: 3562.3340 - mae: 39.9376 - val_loss: 3238.4653 - val_mae: 33.7911\n",
      "Epoch 13/20\n",
      "\u001b[1m18/18\u001b[0m \u001b[32m━━━━━━━━━━━━━━━━━━━━\u001b[0m\u001b[37m\u001b[0m \u001b[1m13s\u001b[0m 730ms/step - loss: 3114.0818 - mae: 37.7834 - val_loss: 3151.8174 - val_mae: 33.6032\n",
      "Epoch 14/20\n",
      "\u001b[1m18/18\u001b[0m \u001b[32m━━━━━━━━━━━━━━━━━━━━\u001b[0m\u001b[37m\u001b[0m \u001b[1m13s\u001b[0m 721ms/step - loss: 2822.1069 - mae: 36.2448 - val_loss: 3061.8098 - val_mae: 33.7214\n",
      "Epoch 15/20\n",
      "\u001b[1m18/18\u001b[0m \u001b[32m━━━━━━━━━━━━━━━━━━━━\u001b[0m\u001b[37m\u001b[0m \u001b[1m13s\u001b[0m 730ms/step - loss: 2649.7383 - mae: 35.0552 - val_loss: 3031.3269 - val_mae: 33.4962\n",
      "Epoch 16/20\n",
      "\u001b[1m18/18\u001b[0m \u001b[32m━━━━━━━━━━━━━━━━━━━━\u001b[0m\u001b[37m\u001b[0m \u001b[1m20s\u001b[0m 721ms/step - loss: 2785.1946 - mae: 37.3428 - val_loss: 3346.4126 - val_mae: 34.7777\n",
      "Epoch 17/20\n",
      "\u001b[1m18/18\u001b[0m \u001b[32m━━━━━━━━━━━━━━━━━━━━\u001b[0m\u001b[37m\u001b[0m \u001b[1m13s\u001b[0m 727ms/step - loss: 2470.7903 - mae: 35.0572 - val_loss: 3511.2534 - val_mae: 35.7109\n",
      "Epoch 18/20\n",
      "\u001b[1m18/18\u001b[0m \u001b[32m━━━━━━━━━━━━━━━━━━━━\u001b[0m\u001b[37m\u001b[0m \u001b[1m15s\u001b[0m 827ms/step - loss: 2854.5090 - mae: 36.1156 - val_loss: 3479.5334 - val_mae: 35.7469\n",
      "Epoch 19/20\n",
      "\u001b[1m18/18\u001b[0m \u001b[32m━━━━━━━━━━━━━━━━━━━━\u001b[0m\u001b[37m\u001b[0m \u001b[1m13s\u001b[0m 732ms/step - loss: 2593.2302 - mae: 33.0599 - val_loss: 3182.5520 - val_mae: 33.5950\n",
      "Epoch 20/20\n",
      "\u001b[1m18/18\u001b[0m \u001b[32m━━━━━━━━━━━━━━━━━━━━\u001b[0m\u001b[37m\u001b[0m \u001b[1m14s\u001b[0m 752ms/step - loss: 2251.3640 - mae: 33.7906 - val_loss: 3241.0635 - val_mae: 33.7541\n"
     ]
    }
   ],
   "source": [
    "training_set = tf.data.Dataset.from_tensor_slices((X_train, y_train)).batch(32)\n",
    "\n",
    "# Function to augment\n",
    "data_augmentation = tf.keras.Sequential([\n",
    "    RandomFlip(\"horizontal\"),\n",
    "    RandomRotation(0.1),\n",
    "    RandomZoom(0.1),\n",
    "])\n",
    "\n",
    "def augment(x, y):\n",
    "    return data_augmentation(x), y\n",
    "\n",
    "training_set = tf.data.Dataset.from_tensor_slices((X_train, y_train))\n",
    "training_set = training_set.map(augment)  # augment\n",
    "training_set = training_set.batch(32).prefetch(tf.data.AUTOTUNE)\n",
    "history = model.fit(training_set, batch_size=32,\n",
    "    epochs=20, validation_data=(X_test, y_test)\n",
    ")"
   ]
  },
  {
   "cell_type": "code",
   "execution_count": 47,
   "id": "c0494676-0e56-4fd4-9402-c413db544d83",
   "metadata": {},
   "outputs": [
    {
     "data": {
      "image/png": "[encoded data removed]",
      "text/plain": [
       "<Figure size 1200x500 with 2 Axes>"
      ]
     },
     "metadata": {},
     "output_type": "display_data"
    }
   ],
   "source": [
    "history_dict = history.history\n",
    "\n",
    "# Getting the metrics\n",
    "mae = history_dict['mae']\n",
    "val_mae = history_dict.get('val_mae')\n",
    "loss = history_dict['loss']\n",
    "val_loss = history_dict.get('val_loss')\n",
    "\n",
    "epochs = range(1, len(mae) + 1)\n",
    "\n",
    "# MAE\n",
    "plt.figure(figsize=(12, 5))\n",
    "\n",
    "plt.subplot(1, 2, 1)\n",
    "plt.plot(epochs, mae, 'b-', label='Training')\n",
    "if val_mae:\n",
    "    plt.plot(epochs, val_mae, 'r-', label='Validation')\n",
    "plt.title('Model MAE')\n",
    "plt.xlabel('Epoch')\n",
    "plt.ylabel('MAE')\n",
    "plt.legend()\n",
    "\n",
    "# Loss (MSE)\n",
    "plt.subplot(1, 2, 2)\n",
    "plt.plot(epochs, loss, 'b-', label='Training')\n",
    "if val_loss:\n",
    "    plt.plot(epochs, val_loss, 'r-', label='Validation')\n",
    "plt.title('Model MSE')\n",
    "plt.xlabel('Epoch')\n",
    "plt.ylabel('MSE')\n",
    "plt.legend()\n",
    "\n",
    "plt.tight_layout()\n",
    "plt.show()\n"
   ]
  },
  {
   "cell_type": "code",
   "execution_count": 48,
   "id": "b10f2622-c643-411a-8ee6-2f4d6a68cb1a",
   "metadata": {},
   "outputs": [
    {
     "name": "stdout",
     "output_type": "stream",
     "text": [
      "\u001b[1m5/5\u001b[0m \u001b[32m━━━━━━━━━━━━━━━━━━━━\u001b[0m\u001b[37m\u001b[0m \u001b[1m4s\u001b[0m 611ms/step\n"
     ]
    }
   ],
   "source": [
    "y_pred = np.round(model.predict(X_test))"
   ]
  },
  {
   "cell_type": "code",
   "execution_count": 49,
   "id": "ebb72d3b-aa3d-4e48-be68-fcb739652739",
   "metadata": {},
   "outputs": [],
   "source": [
    "quantiles = np.percentile(y, [0, 16.67, 33.33, 50, 66.67, 83.33, 100])"
   ]
  },
  {
   "cell_type": "code",
   "execution_count": 50,
   "id": "849de97e-7b95-4a3c-8411-fde6c817a7db",
   "metadata": {},
   "outputs": [
    {
     "data": {
      "text/plain": [
       "array([  9. ,  43. ,  63. ,  95.5, 142. , 198. , 576. ])"
      ]
     },
     "execution_count": 50,
     "metadata": {},
     "output_type": "execute_result"
    }
   ],
   "source": [
    "quantiles"
   ]
  },
  {
   "cell_type": "code",
   "execution_count": 51,
   "id": "36163fde-eac1-4a6a-91c8-fe59363b1048",
   "metadata": {},
   "outputs": [
    {
     "name": "stdout",
     "output_type": "stream",
     "text": [
      "[[149. 156.]\n",
      " [143. 267.]\n",
      " [ 76.  86.]\n",
      " [100. 143.]\n",
      " [ 56.  54.]\n",
      " [ 24.  36.]\n",
      " [ 35.  48.]\n",
      " [ 40.  42.]\n",
      " [ 78. 118.]\n",
      " [180. 281.]\n",
      " [117. 106.]\n",
      " [ 18.  35.]\n",
      " [110. 138.]\n",
      " [186. 251.]\n",
      " [ 64. 123.]\n",
      " [155. 146.]\n",
      " [ 78.  74.]\n",
      " [150. 129.]\n",
      " [ 54.  85.]\n",
      " [206. 176.]\n",
      " [ 53.  64.]\n",
      " [ 26.  28.]\n",
      " [111. 132.]\n",
      " [102.  93.]\n",
      " [212. 298.]\n",
      " [175. 217.]\n",
      " [ 64.  61.]\n",
      " [198. 111.]\n",
      " [ 75.  87.]\n",
      " [ 44.  53.]\n",
      " [ 58.  73.]\n",
      " [105.  94.]\n",
      " [159. 265.]\n",
      " [188. 166.]\n",
      " [ 27.  28.]\n",
      " [100.  68.]\n",
      " [183. 229.]\n",
      " [166. 165.]\n",
      " [ 32.  35.]\n",
      " [ 75.  66.]\n",
      " [ 36.  47.]\n",
      " [159. 132.]\n",
      " [ 37.  60.]\n",
      " [159. 150.]\n",
      " [ 54.  38.]\n",
      " [ 36.  79.]\n",
      " [133. 123.]\n",
      " [ 44.  57.]\n",
      " [ 31.  57.]\n",
      " [ 79.  94.]\n",
      " [ 40.  35.]\n",
      " [ 29.  21.]\n",
      " [ 83. 114.]\n",
      " [153. 203.]\n",
      " [ 23.  28.]\n",
      " [ 56.  51.]\n",
      " [155. 159.]\n",
      " [ 32.  36.]\n",
      " [ 96. 133.]\n",
      " [161. 155.]\n",
      " [ 96.  97.]\n",
      " [205. 277.]\n",
      " [ 41.  54.]\n",
      " [ 24.  25.]\n",
      " [ 36.  29.]\n",
      " [ 48.  80.]\n",
      " [106. 104.]\n",
      " [120. 107.]\n",
      " [128. 344.]\n",
      " [136. 205.]\n",
      " [ 72.  83.]\n",
      " [145. 132.]\n",
      " [107.  84.]\n",
      " [233. 164.]\n",
      " [ 62. 104.]\n",
      " [180. 142.]\n",
      " [218. 235.]\n",
      " [ 13.  26.]\n",
      " [144. 266.]\n",
      " [ 93. 106.]\n",
      " [ 35.  44.]\n",
      " [243. 170.]\n",
      " [133.  71.]\n",
      " [ 96.  70.]\n",
      " [147. 209.]\n",
      " [158. 153.]\n",
      " [ 77.  54.]\n",
      " [157. 217.]\n",
      " [118. 136.]\n",
      " [102. 104.]\n",
      " [ 60.  74.]\n",
      " [ 53.  26.]\n",
      " [ 53. 131.]\n",
      " [ 50.  60.]\n",
      " [ 27.  26.]\n",
      " [110. 108.]\n",
      " [ 38.  62.]\n",
      " [132. 139.]\n",
      " [ 47.  48.]\n",
      " [ 84.  86.]\n",
      " [158. 299.]\n",
      " [ 88. 121.]\n",
      " [146. 176.]\n",
      " [ 47.  48.]\n",
      " [ 52.  58.]\n",
      " [ 20.  30.]\n",
      " [112. 166.]\n",
      " [ 31.  43.]\n",
      " [153. 177.]\n",
      " [ 24.  33.]\n",
      " [ 88. 118.]\n",
      " [ 86. 101.]\n",
      " [146. 146.]\n",
      " [ 50.  61.]\n",
      " [202. 144.]\n",
      " [181. 131.]\n",
      " [ 54.  70.]\n",
      " [152. 539.]\n",
      " [200. 243.]\n",
      " [199. 261.]\n",
      " [121. 274.]\n",
      " [ 28.  41.]\n",
      " [ 92.  96.]\n",
      " [205. 200.]\n",
      " [158.  90.]\n",
      " [ 50. 162.]\n",
      " [ 61.  74.]\n",
      " [100. 110.]\n",
      " [207. 282.]\n",
      " [ 80. 109.]\n",
      " [ 56.  80.]\n",
      " [138. 264.]\n",
      " [102. 106.]\n",
      " [129.  94.]\n",
      " [ 42.  14.]\n",
      " [ 30.  43.]\n",
      " [186. 252.]\n",
      " [ 51.  67.]\n",
      " [ 43.  56.]\n",
      " [102. 125.]\n",
      " [200. 125.]\n",
      " [145. 213.]\n",
      " [176. 229.]\n",
      " [120. 168.]]\n"
     ]
    }
   ],
   "source": [
    "y_pred.reshape(len(y_pred), 1)\n",
    "y_test.reshape(len(y_test), 1)\n",
    "print(np.concatenate((y_pred.reshape(len(y_pred), 1), y_test.reshape(len(y_test), 1)), 1))"
   ]
  },
  {
   "cell_type": "code",
   "execution_count": 52,
   "id": "a2c4eb5b-4734-41ec-888f-7a34a8407164",
   "metadata": {},
   "outputs": [
    {
     "data": {
      "text/plain": [
       "0.5202769041061401"
      ]
     },
     "execution_count": 52,
     "metadata": {},
     "output_type": "execute_result"
    }
   ],
   "source": [
    "from sklearn.metrics import r2_score\n",
    "r2_score(y_test, y_pred)"
   ]
  },
  {
   "cell_type": "code",
   "execution_count": null,
   "id": "85b65c32-25c9-4161-aefa-f7f9787faae8",
   "metadata": {},
   "outputs": [],
   "source": []
  }
 ],
 "metadata": {
  "kernelspec": {
   "display_name": "cnn_e",
   "language": "python",
   "name": "cnn_e"
  },
  "language_info": {
   "codemirror_mode": {
    "name": "ipython",
    "version": 3
   },
   "file_extension": ".py",
   "mimetype": "text/x-python",
   "name": "python",
   "nbconvert_exporter": "python",
   "pygments_lexer": "ipython3",
   "version": "3.11.13"
  }
 },
 "nbformat": 4,
 "nbformat_minor": 5
}
