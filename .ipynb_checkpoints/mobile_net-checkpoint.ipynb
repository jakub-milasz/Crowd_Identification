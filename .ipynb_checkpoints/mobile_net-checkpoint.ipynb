{
 "cells": [
  {
   "cell_type": "code",
   "execution_count": 1,
   "id": "e100bd86-fb84-431b-94ba-c26512bb1ca6",
   "metadata": {},
   "outputs": [],
   "source": [
    "import os\n",
    "import numpy as np\n",
    "import cv2\n",
    "import tensorflow as tf\n",
    "from tensorflow.keras.applications.mobilenet_v2 import preprocess_input\n",
    "from tensorflow.keras.preprocessing.image import load_img, img_to_array\n",
    "from tensorflow.keras.preprocessing.image import ImageDataGenerator\n",
    "from tensorflow.keras.optimizers import Adam\n",
    "import scipy.io\n",
    "import matplotlib.pyplot as plt\n",
    "from tensorflow.keras.applications import MobileNet\n",
    "from tensorflow.keras import layers, models, optimizers\n",
    "from PIL import Image, ImageOps\n",
    "from sklearn.model_selection import train_test_split"
   ]
  },
  {
   "cell_type": "markdown",
   "id": "f522f398-f03b-486a-82a7-834e802387ad",
   "metadata": {},
   "source": [
    "## Reading data"
   ]
  },
  {
   "cell_type": "code",
   "execution_count": 9,
   "id": "9549c429-f36a-4559-bc3c-b0a9baf99a1e",
   "metadata": {},
   "outputs": [],
   "source": [
    "def load_dataset(image_dir, gt_dir, target_size=(224, 224)):\n",
    "    X = []\n",
    "    y = []\n",
    "    image_files = [f for f in os.listdir(image_dir) if f.endswith('.jpg')]\n",
    "    \n",
    "    if not image_files:\n",
    "        raise ValueError(\"Brak plików .jpg w podanym katalogu!\")\n",
    "\n",
    "    for img_file in image_files:\n",
    "        img_path = os.path.join(image_dir, img_file)\n",
    "        mat_path = os.path.join(gt_dir, 'GT_' + img_file.replace('.jpg', '.mat'))\n",
    "\n",
    "        # Wczytaj obraz\n",
    "        img = Image.open(img_path).convert('RGB')\n",
    "        img_pil = img.copy()\n",
    "        img_pil.thumbnail(target_size, Image.BICUBIC)\n",
    "\n",
    "        # Padding\n",
    "        delta_w = target_size[0] - img_pil.size[0]\n",
    "        delta_h = target_size[1] - img_pil.size[1]\n",
    "        padding = (delta_w // 2, delta_h // 2, delta_w - (delta_w // 2), delta_h - (delta_h // 2))\n",
    "        img_padded = ImageOps.expand(img_pil, padding, fill=(0, 0, 0))\n",
    "\n",
    "        # Konwersja do numpy i normalizacja\n",
    "        img_array = np.array(img_padded) / 255.0  # Normalizacja [0, 1]\n",
    "\n",
    "        # Wczytaj ground truth (liczba osób)\n",
    "        mat = scipy.io.loadmat(mat_path)\n",
    "        count = len(mat['image_info'][0][0][0][0][0])\n",
    "\n",
    "        X.append(img_array)\n",
    "        y.append(count)\n",
    "\n",
    "    return np.array(X), np.array(y)"
   ]
  },
  {
   "cell_type": "markdown",
   "id": "05ffd0a0-acca-4279-8bc5-e376510ccb8e",
   "metadata": {},
   "source": [
    "## Building the model"
   ]
  },
  {
   "cell_type": "code",
   "execution_count": 10,
   "id": "2fc9bf97-7b12-4ae3-aba3-e6466a3714ed",
   "metadata": {},
   "outputs": [],
   "source": [
    "base_model = MobileNet(include_top=False, input_shape=(224, 224, 3), weights='imagenet')\n",
    "base_model.trainable = False  # Zamroź warstwy\n",
    "\n",
    "model = models.Sequential([\n",
    "    base_model,\n",
    "    layers.GlobalAveragePooling2D(),\n",
    "    layers.Dense(64, activation='relu'),\n",
    "    layers.Dense(128, activation='relu'),\n",
    "    layers.Dense(256, activation='relu'),\n",
    "    layers.Dense(512, activation='relu'),\n",
    "    layers.Dense(256, activation='relu'),\n",
    "    layers.Dense(128, activation='relu'),\n",
    "    layers.Dense(64, activation='relu'),\n",
    "    layers.Dense(1, activation='linear')  # Wyjście\n",
    "])\n",
    "\n",
    "\n",
    "model.compile(optimizer=Adam(1e-4), loss='mse', metrics=['mae'])"
   ]
  },
  {
   "cell_type": "markdown",
   "id": "1bff3da5-c0fa-4375-bf78-b117a7e657de",
   "metadata": {},
   "source": [
    "## Getting the training set"
   ]
  },
  {
   "cell_type": "code",
   "execution_count": 11,
   "id": "2e93603f-cf58-4216-9b86-bdddeccd8c6f",
   "metadata": {},
   "outputs": [],
   "source": [
    "X_1, y_1 = load_dataset('ShanghaiTech/part_B/train_data/images/', 'ShanghaiTech/part_B/train_data/ground-truth/')"
   ]
  },
  {
   "cell_type": "code",
   "execution_count": 12,
   "id": "d8bf7356-5d1a-4aa2-b03a-5d797efd7c17",
   "metadata": {},
   "outputs": [],
   "source": [
    "X_2, y_2 = load_dataset('ShanghaiTech/part_B/test_data/images/', 'ShanghaiTech/part_B/test_data/ground-truth/')"
   ]
  },
  {
   "cell_type": "code",
   "execution_count": 13,
   "id": "093d8c7f-8eaf-4ded-a2b7-4913a6c424e6",
   "metadata": {},
   "outputs": [],
   "source": [
    "X = np.concatenate([X_1, X_2], axis=0)\n",
    "y = np.concatenate([y_1, y_2], axis=0)"
   ]
  },
  {
   "cell_type": "code",
   "execution_count": 19,
   "id": "e0e60a28-17ef-479a-a6ea-deed91679086",
   "metadata": {},
   "outputs": [],
   "source": [
    "X_train, X_test, y_train, y_test = train_test_split(X, y, test_size=0.2, random_state=0)"
   ]
  },
  {
   "cell_type": "code",
   "execution_count": 20,
   "id": "53930ede-cd7f-46bd-a885-19fa5bffad7f",
   "metadata": {},
   "outputs": [],
   "source": [
    "datagen = ImageDataGenerator(\n",
    "    horizontal_flip=True,\n",
    "    rotation_range=10,\n",
    "    zoom_range=0.1\n",
    ")"
   ]
  },
  {
   "cell_type": "code",
   "execution_count": 21,
   "id": "668d5a4f-4833-4a1a-8a68-521dceeeecf3",
   "metadata": {},
   "outputs": [
    {
     "name": "stdout",
     "output_type": "stream",
     "text": [
      "Epoch 1/20\n",
      "\u001b[1m23/23\u001b[0m \u001b[32m━━━━━━━━━━━━━━━━━━━━\u001b[0m\u001b[37m\u001b[0m \u001b[1m23s\u001b[0m 616ms/step - loss: 24806.8965 - mae: 126.2312 - val_loss: 20731.7012 - val_mae: 118.1945\n",
      "Epoch 2/20\n",
      "\u001b[1m23/23\u001b[0m \u001b[32m━━━━━━━━━━━━━━━━━━━━\u001b[0m\u001b[37m\u001b[0m \u001b[1m19s\u001b[0m 556ms/step - loss: 23193.2871 - mae: 119.4658 - val_loss: 14792.2236 - val_mae: 90.7764\n",
      "Epoch 3/20\n",
      "\u001b[1m23/23\u001b[0m \u001b[32m━━━━━━━━━━━━━━━━━━━━\u001b[0m\u001b[37m\u001b[0m \u001b[1m12s\u001b[0m 539ms/step - loss: 14742.8936 - mae: 85.4875 - val_loss: 7119.5195 - val_mae: 68.7774\n",
      "Epoch 4/20\n",
      "\u001b[1m23/23\u001b[0m \u001b[32m━━━━━━━━━━━━━━━━━━━━\u001b[0m\u001b[37m\u001b[0m \u001b[1m13s\u001b[0m 587ms/step - loss: 8921.2949 - mae: 73.7209 - val_loss: 6513.7744 - val_mae: 59.9585\n",
      "Epoch 5/20\n",
      "\u001b[1m23/23\u001b[0m \u001b[32m━━━━━━━━━━━━━━━━━━━━\u001b[0m\u001b[37m\u001b[0m \u001b[1m14s\u001b[0m 592ms/step - loss: 8655.0107 - mae: 69.6362 - val_loss: 6195.7178 - val_mae: 59.6191\n",
      "Epoch 6/20\n",
      "\u001b[1m23/23\u001b[0m \u001b[32m━━━━━━━━━━━━━━━━━━━━\u001b[0m\u001b[37m\u001b[0m \u001b[1m13s\u001b[0m 586ms/step - loss: 8237.7061 - mae: 68.1985 - val_loss: 5973.8647 - val_mae: 58.1395\n",
      "Epoch 7/20\n",
      "\u001b[1m23/23\u001b[0m \u001b[32m━━━━━━━━━━━━━━━━━━━━\u001b[0m\u001b[37m\u001b[0m \u001b[1m15s\u001b[0m 642ms/step - loss: 7899.8364 - mae: 66.8474 - val_loss: 5696.6655 - val_mae: 56.1375\n",
      "Epoch 8/20\n",
      "\u001b[1m23/23\u001b[0m \u001b[32m━━━━━━━━━━━━━━━━━━━━\u001b[0m\u001b[37m\u001b[0m \u001b[1m14s\u001b[0m 621ms/step - loss: 7468.2227 - mae: 64.6851 - val_loss: 5342.8042 - val_mae: 53.4312\n",
      "Epoch 9/20\n",
      "\u001b[1m23/23\u001b[0m \u001b[32m━━━━━━━━━━━━━━━━━━━━\u001b[0m\u001b[37m\u001b[0m \u001b[1m14s\u001b[0m 605ms/step - loss: 6887.0889 - mae: 61.7113 - val_loss: 4886.8105 - val_mae: 50.4759\n",
      "Epoch 10/20\n",
      "\u001b[1m23/23\u001b[0m \u001b[32m━━━━━━━━━━━━━━━━━━━━\u001b[0m\u001b[37m\u001b[0m \u001b[1m14s\u001b[0m 607ms/step - loss: 6152.3037 - mae: 57.8507 - val_loss: 4378.1934 - val_mae: 47.7964\n",
      "Epoch 11/20\n",
      "\u001b[1m23/23\u001b[0m \u001b[32m━━━━━━━━━━━━━━━━━━━━\u001b[0m\u001b[37m\u001b[0m \u001b[1m14s\u001b[0m 595ms/step - loss: 5334.0229 - mae: 53.2574 - val_loss: 3920.1545 - val_mae: 45.5916\n",
      "Epoch 12/20\n",
      "\u001b[1m23/23\u001b[0m \u001b[32m━━━━━━━━━━━━━━━━━━━━\u001b[0m\u001b[37m\u001b[0m \u001b[1m13s\u001b[0m 558ms/step - loss: 4580.2729 - mae: 48.6746 - val_loss: 3590.8782 - val_mae: 43.4725\n",
      "Epoch 13/20\n",
      "\u001b[1m23/23\u001b[0m \u001b[32m━━━━━━━━━━━━━━━━━━━━\u001b[0m\u001b[37m\u001b[0m \u001b[1m13s\u001b[0m 561ms/step - loss: 4001.8970 - mae: 44.7566 - val_loss: 3230.8389 - val_mae: 40.4041\n",
      "Epoch 14/20\n",
      "\u001b[1m23/23\u001b[0m \u001b[32m━━━━━━━━━━━━━━━━━━━━\u001b[0m\u001b[37m\u001b[0m \u001b[1m17s\u001b[0m 742ms/step - loss: 3531.5840 - mae: 41.5301 - val_loss: 2908.7268 - val_mae: 37.7831\n",
      "Epoch 15/20\n",
      "\u001b[1m23/23\u001b[0m \u001b[32m━━━━━━━━━━━━━━━━━━━━\u001b[0m\u001b[37m\u001b[0m \u001b[1m14s\u001b[0m 620ms/step - loss: 3126.7563 - mae: 38.7510 - val_loss: 2681.1289 - val_mae: 36.0841\n",
      "Epoch 16/20\n",
      "\u001b[1m23/23\u001b[0m \u001b[32m━━━━━━━━━━━━━━━━━━━━\u001b[0m\u001b[37m\u001b[0m \u001b[1m15s\u001b[0m 680ms/step - loss: 2805.5637 - mae: 36.6773 - val_loss: 2487.0684 - val_mae: 34.8160\n",
      "Epoch 17/20\n",
      "\u001b[1m23/23\u001b[0m \u001b[32m━━━━━━━━━━━━━━━━━━━━\u001b[0m\u001b[37m\u001b[0m \u001b[1m15s\u001b[0m 676ms/step - loss: 2532.6045 - mae: 35.0829 - val_loss: 2306.7100 - val_mae: 33.7567\n",
      "Epoch 18/20\n",
      "\u001b[1m23/23\u001b[0m \u001b[32m━━━━━━━━━━━━━━━━━━━━\u001b[0m\u001b[37m\u001b[0m \u001b[1m23s\u001b[0m 1s/step - loss: 2305.9492 - mae: 33.7639 - val_loss: 2127.7961 - val_mae: 32.7871\n",
      "Epoch 19/20\n",
      "\u001b[1m23/23\u001b[0m \u001b[32m━━━━━━━━━━━━━━━━━━━━\u001b[0m\u001b[37m\u001b[0m \u001b[1m17s\u001b[0m 728ms/step - loss: 2107.9741 - mae: 32.5431 - val_loss: 1964.5645 - val_mae: 31.8333\n",
      "Epoch 20/20\n",
      "\u001b[1m23/23\u001b[0m \u001b[32m━━━━━━━━━━━━━━━━━━━━\u001b[0m\u001b[37m\u001b[0m \u001b[1m14s\u001b[0m 603ms/step - loss: 1939.0449 - mae: 31.4399 - val_loss: 1811.9213 - val_mae: 30.9272\n"
     ]
    }
   ],
   "source": [
    "dataset = tf.data.Dataset.from_tensor_slices((X, y)).batch(32)\n",
    "history = model.fit(dataset, batch_size=32,\n",
    "    epochs=20, validation_data=(X_test, y_test)\n",
    ")"
   ]
  },
  {
   "cell_type": "code",
   "execution_count": 22,
   "id": "c0494676-0e56-4fd4-9402-c413db544d83",
   "metadata": {},
   "outputs": [
    {
     "data": {
      "image/png": "[encoded data removed]",
      "text/plain": [
       "<Figure size 1200x500 with 2 Axes>"
      ]
     },
     "metadata": {},
     "output_type": "display_data"
    }
   ],
   "source": [
    "history_dict = history.history\n",
    "\n",
    "# Getting the metrics\n",
    "mae = history_dict['mae']\n",
    "val_mae = history_dict.get('val_mae')\n",
    "loss = history_dict['loss']\n",
    "val_loss = history_dict.get('val_loss')\n",
    "\n",
    "epochs = range(1, len(mae) + 1)\n",
    "\n",
    "# MAE\n",
    "plt.figure(figsize=(12, 5))\n",
    "\n",
    "plt.subplot(1, 2, 1)\n",
    "plt.plot(epochs, mae, 'b-', label='Training')\n",
    "if val_mae:\n",
    "    plt.plot(epochs, val_mae, 'r-', label='Validation')\n",
    "plt.title('Model MAE')\n",
    "plt.xlabel('Epoch')\n",
    "plt.ylabel('MAE')\n",
    "plt.legend()\n",
    "\n",
    "# Loss (MSE)\n",
    "plt.subplot(1, 2, 2)\n",
    "plt.plot(epochs, loss, 'b-', label='Training')\n",
    "if val_loss:\n",
    "    plt.plot(epochs, val_loss, 'r-', label='Validation')\n",
    "plt.title('Model MSE')\n",
    "plt.xlabel('Epoch')\n",
    "plt.ylabel('MSE')\n",
    "plt.legend()\n",
    "\n",
    "plt.tight_layout()\n",
    "plt.show()\n"
   ]
  },
  {
   "cell_type": "code",
   "execution_count": 23,
   "id": "b10f2622-c643-411a-8ee6-2f4d6a68cb1a",
   "metadata": {},
   "outputs": [
    {
     "name": "stdout",
     "output_type": "stream",
     "text": [
      "\u001b[1m5/5\u001b[0m \u001b[32m━━━━━━━━━━━━━━━━━━━━\u001b[0m\u001b[37m\u001b[0m \u001b[1m4s\u001b[0m 686ms/step\n"
     ]
    }
   ],
   "source": [
    "y_pred = model.predict(X_test)"
   ]
  },
  {
   "cell_type": "code",
   "execution_count": 24,
   "id": "36163fde-eac1-4a6a-91c8-fe59363b1048",
   "metadata": {},
   "outputs": [
    {
     "name": "stdout",
     "output_type": "stream",
     "text": [
      "[[228.71786499 156.        ]\n",
      " [170.42774963 267.        ]\n",
      " [ 52.11818695  86.        ]\n",
      " [102.56391144 143.        ]\n",
      " [ 55.56897354  54.        ]\n",
      " [ 50.31389999  36.        ]\n",
      " [ 39.72774506  48.        ]\n",
      " [ 39.78776169  42.        ]\n",
      " [ 86.35224915 118.        ]\n",
      " [195.15936279 281.        ]\n",
      " [ 78.91506958 106.        ]\n",
      " [ 37.00886536  35.        ]\n",
      " [117.90054321 138.        ]\n",
      " [318.2991333  251.        ]\n",
      " [ 90.96273804 123.        ]\n",
      " [147.94657898 146.        ]\n",
      " [ 93.6388092   74.        ]\n",
      " [165.345047   129.        ]\n",
      " [ 39.36546326  85.        ]\n",
      " [196.3250885  176.        ]\n",
      " [ 71.03900146  64.        ]\n",
      " [ 31.71838379  28.        ]\n",
      " [126.56625366 132.        ]\n",
      " [ 75.41509247  93.        ]\n",
      " [219.24064636 298.        ]\n",
      " [272.9967041  217.        ]\n",
      " [ 70.91983032  61.        ]\n",
      " [208.59143066 111.        ]\n",
      " [104.19352722  87.        ]\n",
      " [ 44.95267868  53.        ]\n",
      " [104.22412872  73.        ]\n",
      " [130.83976746  94.        ]\n",
      " [241.75350952 265.        ]\n",
      " [208.92912292 166.        ]\n",
      " [ 34.21644592  28.        ]\n",
      " [ 99.28636169  68.        ]\n",
      " [186.6547699  229.        ]\n",
      " [162.2233429  165.        ]\n",
      " [ 72.19190979  35.        ]\n",
      " [ 74.46702576  66.        ]\n",
      " [ 74.05964661  47.        ]\n",
      " [193.65162659 132.        ]\n",
      " [ 57.79449081  60.        ]\n",
      " [190.36117554 150.        ]\n",
      " [ 33.74214935  38.        ]\n",
      " [ 56.98038864  79.        ]\n",
      " [140.47715759 123.        ]\n",
      " [ 46.03411484  57.        ]\n",
      " [ 40.11127472  57.        ]\n",
      " [118.6687851   94.        ]\n",
      " [ 61.73109818  35.        ]\n",
      " [ 61.34724045  21.        ]\n",
      " [ 68.22655487 114.        ]\n",
      " [190.05464172 203.        ]\n",
      " [ 25.69114304  28.        ]\n",
      " [ 55.51244736  51.        ]\n",
      " [188.84526062 159.        ]\n",
      " [ 33.43559647  36.        ]\n",
      " [ 87.33579254 133.        ]\n",
      " [176.25622559 155.        ]\n",
      " [ 95.61607361  97.        ]\n",
      " [288.84436035 277.        ]\n",
      " [ 49.97038651  54.        ]\n",
      " [ 29.27036667  25.        ]\n",
      " [ 62.60564804  29.        ]\n",
      " [ 63.21921921  80.        ]\n",
      " [124.97782898 104.        ]\n",
      " [187.96394348 107.        ]\n",
      " [206.29954529 344.        ]\n",
      " [178.53109741 205.        ]\n",
      " [ 64.85675812  83.        ]\n",
      " [115.10189819 132.        ]\n",
      " [ 72.82899475  84.        ]\n",
      " [288.1477356  164.        ]\n",
      " [ 93.63949585 104.        ]\n",
      " [245.81306458 142.        ]\n",
      " [299.53955078 235.        ]\n",
      " [ 26.82688141  26.        ]\n",
      " [188.75123596 266.        ]\n",
      " [ 85.48051453 106.        ]\n",
      " [ 60.23698044  44.        ]\n",
      " [261.02441406 170.        ]\n",
      " [107.75083923  71.        ]\n",
      " [ 89.47559357  70.        ]\n",
      " [152.49882507 209.        ]\n",
      " [237.6542511  153.        ]\n",
      " [ 56.20784378  54.        ]\n",
      " [184.45018005 217.        ]\n",
      " [112.98791504 136.        ]\n",
      " [152.20124817 104.        ]\n",
      " [ 83.85161591  74.        ]\n",
      " [ 44.42156601  26.        ]\n",
      " [ 88.23744202 131.        ]\n",
      " [ 69.00213623  60.        ]\n",
      " [ 51.39952469  26.        ]\n",
      " [ 96.89781189 108.        ]\n",
      " [ 45.94572067  62.        ]\n",
      " [159.96656799 139.        ]\n",
      " [ 69.99758911  48.        ]\n",
      " [ 89.19501495  86.        ]\n",
      " [230.41395569 299.        ]\n",
      " [ 64.77728271 121.        ]\n",
      " [208.53352356 176.        ]\n",
      " [ 93.72214508  48.        ]\n",
      " [ 53.31603622  58.        ]\n",
      " [ 27.10061646  30.        ]\n",
      " [127.10115051 166.        ]\n",
      " [ 35.88283539  43.        ]\n",
      " [121.8762207  177.        ]\n",
      " [ 32.31447983  33.        ]\n",
      " [113.20444489 118.        ]\n",
      " [ 84.20602417 101.        ]\n",
      " [134.05888367 146.        ]\n",
      " [ 62.16319275  61.        ]\n",
      " [122.5663147  144.        ]\n",
      " [179.9256134  131.        ]\n",
      " [ 75.28617096  70.        ]\n",
      " [417.51794434 539.        ]\n",
      " [224.68754578 243.        ]\n",
      " [270.28961182 261.        ]\n",
      " [171.16957092 274.        ]\n",
      " [ 37.86161423  41.        ]\n",
      " [ 77.11839294  96.        ]\n",
      " [177.16706848 200.        ]\n",
      " [159.98356628  90.        ]\n",
      " [111.57522583 162.        ]\n",
      " [ 71.62898254  74.        ]\n",
      " [ 84.97164917 110.        ]\n",
      " [292.378479   282.        ]\n",
      " [ 62.42029953 109.        ]\n",
      " [ 97.55364227  80.        ]\n",
      " [157.99789429 264.        ]\n",
      " [182.19648743 106.        ]\n",
      " [ 85.3528595   94.        ]\n",
      " [ 47.95483017  14.        ]\n",
      " [ 42.49907303  43.        ]\n",
      " [260.37493896 252.        ]\n",
      " [ 90.31694031  67.        ]\n",
      " [ 55.66341019  56.        ]\n",
      " [177.50108337 125.        ]\n",
      " [143.5259552  125.        ]\n",
      " [231.64178467 213.        ]\n",
      " [271.2986145  229.        ]\n",
      " [103.93460083 168.        ]]\n"
     ]
    }
   ],
   "source": [
    "y_pred.reshape(len(y_pred), 1)\n",
    "y_test.reshape(len(y_test), 1)\n",
    "print(np.concatenate((y_pred.reshape(len(y_pred), 1), y_test.reshape(len(y_test), 1)), 1))"
   ]
  },
  {
   "cell_type": "code",
   "execution_count": 25,
   "id": "a2c4eb5b-4734-41ec-888f-7a34a8407164",
   "metadata": {},
   "outputs": [
    {
     "data": {
      "text/plain": [
       "0.7320803999900818"
      ]
     },
     "execution_count": 25,
     "metadata": {},
     "output_type": "execute_result"
    }
   ],
   "source": [
    "from sklearn.metrics import r2_score\n",
    "r2_score(y_test, y_pred)"
   ]
  }
 ],
 "metadata": {
  "kernelspec": {
   "display_name": "cnn_e",
   "language": "python",
   "name": "cnn_e"
  },
  "language_info": {
   "codemirror_mode": {
    "name": "ipython",
    "version": 3
   },
   "file_extension": ".py",
   "mimetype": "text/x-python",
   "name": "python",
   "nbconvert_exporter": "python",
   "pygments_lexer": "ipython3",
   "version": "3.11.13"
  }
 },
 "nbformat": 4,
 "nbformat_minor": 5
}
