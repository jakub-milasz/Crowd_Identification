{
 "cells": [
  {
   "cell_type": "code",
   "execution_count": 242,
   "id": "e100bd86-fb84-431b-94ba-c26512bb1ca6",
   "metadata": {},
   "outputs": [],
   "source": [
    "import os\n",
    "import numpy as np\n",
    "import cv2\n",
    "import tensorflow as tf\n",
    "from tensorflow.keras.applications.mobilenet import preprocess_input\n",
    "from tensorflow.keras.preprocessing.image import load_img, img_to_array\n",
    "from tensorflow.keras.layers import RandomFlip, RandomRotation, RandomZoom\n",
    "from tensorflow.keras.optimizers import Adam\n",
    "import scipy.io\n",
    "import matplotlib.pyplot as plt\n",
    "from tensorflow.keras.applications import MobileNet\n",
    "from tensorflow.keras import layers, models, optimizers\n",
    "from PIL import Image, ImageOps\n",
    "from sklearn.model_selection import train_test_split\n",
    "from sklearn.utils import shuffle"
   ]
  },
  {
   "cell_type": "markdown",
   "id": "f522f398-f03b-486a-82a7-834e802387ad",
   "metadata": {},
   "source": [
    "## Reading data"
   ]
  },
  {
   "cell_type": "code",
   "execution_count": 243,
   "id": "9549c429-f36a-4559-bc3c-b0a9baf99a1e",
   "metadata": {},
   "outputs": [],
   "source": [
    "def load_dataset(image_dir, gt_dir, target_size=(224, 224)):\n",
    "    X = []\n",
    "    y = []\n",
    "    c = 0\n",
    "    image_files = [f for f in os.listdir(image_dir) if f.endswith('.jpg')]\n",
    "    image_files.sort()  # opcjonalnie\n",
    "\n",
    "    if not image_files:\n",
    "        raise ValueError(\"Brak plików .jpg w podanym katalogu!\")\n",
    "\n",
    "    for img_file in image_files:\n",
    "        img_path = os.path.join(image_dir, img_file)\n",
    "        mat_path = os.path.join(gt_dir, 'GT_' + img_file.replace('.jpg', '.mat'))\n",
    "\n",
    "        # Wczytaj i przeskaluj obraz do dokładnego rozmiaru target_size (bez paddingu)\n",
    "        img = Image.open(img_path).convert('RGB')\n",
    "        img_resized = img.resize(target_size, Image.LANCZOS)\n",
    "\n",
    "        # Konwersja do numpy + preprocess_input (dla MobileNet)\n",
    "        img_array = np.array(img_resized, dtype=np.float32)\n",
    "        img_array = preprocess_input(img_array)\n",
    "\n",
    "        # Wczytaj ground truth (liczba osób)\n",
    "        mat = scipy.io.loadmat(mat_path)\n",
    "        count = len(mat['image_info'][0][0][0][0][0])\n",
    "\n",
    "        X.append(img_array)\n",
    "        y.append(count)\n",
    "        # if c == 1:\n",
    "        #     plt.imshow(img_resized)\n",
    "        #     print(img_path)\n",
    "        #     print(count)\n",
    "        #     break\n",
    "        # c += 1\n",
    "\n",
    "    return np.array(X), np.array(y)\n"
   ]
  },
  {
   "cell_type": "markdown",
   "id": "05ffd0a0-acca-4279-8bc5-e376510ccb8e",
   "metadata": {},
   "source": [
    "## Building the model"
   ]
  },
  {
   "cell_type": "code",
   "execution_count": 285,
   "id": "2fc9bf97-7b12-4ae3-aba3-e6466a3714ed",
   "metadata": {},
   "outputs": [],
   "source": [
    "base_model = MobileNet(include_top=False, input_shape=(224, 224, 3), weights='imagenet')\n",
    "base_model.trainable = False  # Zamroź warstwy\n",
    "\n",
    "model = models.Sequential([\n",
    "    base_model,\n",
    "    layers.Flatten(),\n",
    "    layers.Dropout(0.3),\n",
    "    layers.Dense(128, activation='relu'),\n",
    "    layers.Dropout(0.3),\n",
    "    layers.Dense(64, activation='relu'),\n",
    "    layers.Dense(1, activation='linear')\n",
    "])\n",
    "\n",
    "\n",
    "model.compile(optimizer=Adam(1e-4), loss='mse', metrics=['mae'])"
   ]
  },
  {
   "cell_type": "markdown",
   "id": "1bff3da5-c0fa-4375-bf78-b117a7e657de",
   "metadata": {},
   "source": [
    "## Getting the training set"
   ]
  },
  {
   "cell_type": "code",
   "execution_count": 286,
   "id": "2e93603f-cf58-4216-9b86-bdddeccd8c6f",
   "metadata": {},
   "outputs": [],
   "source": [
    "X_1, y_1 = load_dataset('ShanghaiTech/part_B/train_data/images/', 'ShanghaiTech/part_B/train_data/ground-truth/')"
   ]
  },
  {
   "cell_type": "code",
   "execution_count": 287,
   "id": "d8bf7356-5d1a-4aa2-b03a-5d797efd7c17",
   "metadata": {},
   "outputs": [],
   "source": [
    "X_2, y_2 = load_dataset('ShanghaiTech/part_B/test_data/images/', 'ShanghaiTech/part_B/test_data/ground-truth/')"
   ]
  },
  {
   "cell_type": "code",
   "execution_count": 288,
   "id": "093d8c7f-8eaf-4ded-a2b7-4913a6c424e6",
   "metadata": {},
   "outputs": [],
   "source": [
    "X = np.concatenate([X_1, X_2], axis=0)\n",
    "y = np.concatenate([y_1, y_2], axis=0)"
   ]
  },
  {
   "cell_type": "code",
   "execution_count": 289,
   "id": "e0e60a28-17ef-479a-a6ea-deed91679086",
   "metadata": {},
   "outputs": [],
   "source": [
    "X_train, X_test, y_train, y_test = train_test_split(X, y, test_size=0.2, random_state=0)"
   ]
  },
  {
   "cell_type": "code",
   "execution_count": 290,
   "id": "668d5a4f-4833-4a1a-8a68-521dceeeecf3",
   "metadata": {},
   "outputs": [
    {
     "name": "stdout",
     "output_type": "stream",
     "text": [
      "Epoch 1/20\n",
      "\u001b[1m18/18\u001b[0m \u001b[32m━━━━━━━━━━━━━━━━━━━━\u001b[0m\u001b[37m\u001b[0m \u001b[1m18s\u001b[0m 778ms/step - loss: 17054.8633 - mae: 95.4265 - val_loss: 6661.1558 - val_mae: 66.4746\n",
      "Epoch 2/20\n",
      "\u001b[1m18/18\u001b[0m \u001b[32m━━━━━━━━━━━━━━━━━━━━\u001b[0m\u001b[37m\u001b[0m \u001b[1m20s\u001b[0m 719ms/step - loss: 8864.7236 - mae: 75.5972 - val_loss: 5649.9546 - val_mae: 55.4378\n",
      "Epoch 3/20\n",
      "\u001b[1m18/18\u001b[0m \u001b[32m━━━━━━━━━━━━━━━━━━━━\u001b[0m\u001b[37m\u001b[0m \u001b[1m13s\u001b[0m 704ms/step - loss: 7682.8418 - mae: 64.4224 - val_loss: 5203.8682 - val_mae: 51.1905\n",
      "Epoch 4/20\n",
      "\u001b[1m18/18\u001b[0m \u001b[32m━━━━━━━━━━━━━━━━━━━━\u001b[0m\u001b[37m\u001b[0m \u001b[1m13s\u001b[0m 710ms/step - loss: 6764.2212 - mae: 61.3674 - val_loss: 4828.7246 - val_mae: 47.5140\n",
      "Epoch 5/20\n",
      "\u001b[1m18/18\u001b[0m \u001b[32m━━━━━━━━━━━━━━━━━━━━\u001b[0m\u001b[37m\u001b[0m \u001b[1m13s\u001b[0m 723ms/step - loss: 6059.0630 - mae: 56.3993 - val_loss: 4633.0347 - val_mae: 43.9743\n",
      "Epoch 6/20\n",
      "\u001b[1m18/18\u001b[0m \u001b[32m━━━━━━━━━━━━━━━━━━━━\u001b[0m\u001b[37m\u001b[0m \u001b[1m13s\u001b[0m 711ms/step - loss: 5756.0957 - mae: 53.6568 - val_loss: 4409.0791 - val_mae: 42.6159\n",
      "Epoch 7/20\n",
      "\u001b[1m18/18\u001b[0m \u001b[32m━━━━━━━━━━━━━━━━━━━━\u001b[0m\u001b[37m\u001b[0m \u001b[1m13s\u001b[0m 735ms/step - loss: 5115.7231 - mae: 50.5550 - val_loss: 4117.3696 - val_mae: 41.9726\n",
      "Epoch 8/20\n",
      "\u001b[1m18/18\u001b[0m \u001b[32m━━━━━━━━━━━━━━━━━━━━\u001b[0m\u001b[37m\u001b[0m \u001b[1m13s\u001b[0m 720ms/step - loss: 4882.8887 - mae: 49.1625 - val_loss: 4107.1826 - val_mae: 40.6180\n",
      "Epoch 9/20\n",
      "\u001b[1m18/18\u001b[0m \u001b[32m━━━━━━━━━━━━━━━━━━━━\u001b[0m\u001b[37m\u001b[0m \u001b[1m13s\u001b[0m 713ms/step - loss: 4268.0908 - mae: 45.2933 - val_loss: 3885.4167 - val_mae: 39.6390\n",
      "Epoch 10/20\n",
      "\u001b[1m18/18\u001b[0m \u001b[32m━━━━━━━━━━━━━━━━━━━━\u001b[0m\u001b[37m\u001b[0m \u001b[1m13s\u001b[0m 708ms/step - loss: 4369.4912 - mae: 44.8556 - val_loss: 4084.4001 - val_mae: 39.2406\n",
      "Epoch 11/20\n",
      "\u001b[1m18/18\u001b[0m \u001b[32m━━━━━━━━━━━━━━━━━━━━\u001b[0m\u001b[37m\u001b[0m \u001b[1m13s\u001b[0m 717ms/step - loss: 4138.9629 - mae: 44.6047 - val_loss: 4077.6536 - val_mae: 38.8697\n",
      "Epoch 12/20\n",
      "\u001b[1m18/18\u001b[0m \u001b[32m━━━━━━━━━━━━━━━━━━━━\u001b[0m\u001b[37m\u001b[0m \u001b[1m20s\u001b[0m 700ms/step - loss: 3060.6548 - mae: 37.5103 - val_loss: 3611.5420 - val_mae: 36.5987\n",
      "Epoch 13/20\n",
      "\u001b[1m18/18\u001b[0m \u001b[32m━━━━━━━━━━━━━━━━━━━━\u001b[0m\u001b[37m\u001b[0m \u001b[1m13s\u001b[0m 715ms/step - loss: 3510.2610 - mae: 40.1712 - val_loss: 3569.3914 - val_mae: 36.1040\n",
      "Epoch 14/20\n",
      "\u001b[1m18/18\u001b[0m \u001b[32m━━━━━━━━━━━━━━━━━━━━\u001b[0m\u001b[37m\u001b[0m \u001b[1m13s\u001b[0m 708ms/step - loss: 3117.3032 - mae: 38.6716 - val_loss: 3428.4314 - val_mae: 35.7630\n",
      "Epoch 15/20\n",
      "\u001b[1m18/18\u001b[0m \u001b[32m━━━━━━━━━━━━━━━━━━━━\u001b[0m\u001b[37m\u001b[0m \u001b[1m13s\u001b[0m 726ms/step - loss: 3347.5874 - mae: 39.0426 - val_loss: 3398.3484 - val_mae: 36.1537\n",
      "Epoch 16/20\n",
      "\u001b[1m18/18\u001b[0m \u001b[32m━━━━━━━━━━━━━━━━━━━━\u001b[0m\u001b[37m\u001b[0m \u001b[1m13s\u001b[0m 709ms/step - loss: 3045.8525 - mae: 37.5743 - val_loss: 3506.8320 - val_mae: 36.5553\n",
      "Epoch 17/20\n",
      "\u001b[1m18/18\u001b[0m \u001b[32m━━━━━━━━━━━━━━━━━━━━\u001b[0m\u001b[37m\u001b[0m \u001b[1m13s\u001b[0m 699ms/step - loss: 3109.5442 - mae: 36.9532 - val_loss: 3513.5479 - val_mae: 36.4448\n",
      "Epoch 18/20\n",
      "\u001b[1m18/18\u001b[0m \u001b[32m━━━━━━━━━━━━━━━━━━━━\u001b[0m\u001b[37m\u001b[0m \u001b[1m13s\u001b[0m 722ms/step - loss: 2455.8467 - mae: 34.2164 - val_loss: 3159.9602 - val_mae: 34.9024\n",
      "Epoch 19/20\n",
      "\u001b[1m18/18\u001b[0m \u001b[32m━━━━━━━━━━━━━━━━━━━━\u001b[0m\u001b[37m\u001b[0m \u001b[1m13s\u001b[0m 717ms/step - loss: 2646.3062 - mae: 34.9361 - val_loss: 3291.1855 - val_mae: 35.5011\n",
      "Epoch 20/20\n",
      "\u001b[1m18/18\u001b[0m \u001b[32m━━━━━━━━━━━━━━━━━━━━\u001b[0m\u001b[37m\u001b[0m \u001b[1m13s\u001b[0m 711ms/step - loss: 2726.7009 - mae: 36.1737 - val_loss: 3114.3408 - val_mae: 34.5326\n"
     ]
    }
   ],
   "source": [
    "training_set = tf.data.Dataset.from_tensor_slices((X_train, y_train)).batch(32)\n",
    "\n",
    "# Function to augment\n",
    "data_augmentation = tf.keras.Sequential([\n",
    "    RandomFlip(\"horizontal\"),\n",
    "    RandomRotation(0.1),\n",
    "    RandomZoom(0.1),\n",
    "])\n",
    "\n",
    "def augment(x, y):\n",
    "    return data_augmentation(x), y\n",
    "\n",
    "training_set = tf.data.Dataset.from_tensor_slices((X_train, y_train))\n",
    "training_set = training_set.map(augment)  # augment\n",
    "training_set = training_set.batch(32).prefetch(tf.data.AUTOTUNE)\n",
    "history = model.fit(training_set, batch_size=32,\n",
    "    epochs=20, validation_data=(X_test, y_test)\n",
    ")"
   ]
  },
  {
   "cell_type": "code",
   "execution_count": 291,
   "id": "c0494676-0e56-4fd4-9402-c413db544d83",
   "metadata": {},
   "outputs": [
    {
     "data": {
      "image/png": "[encoded data removed]",
      "text/plain": [
       "<Figure size 1200x500 with 2 Axes>"
      ]
     },
     "metadata": {},
     "output_type": "display_data"
    }
   ],
   "source": [
    "history_dict = history.history\n",
    "\n",
    "# Getting the metrics\n",
    "mae = history_dict['mae']\n",
    "val_mae = history_dict.get('val_mae')\n",
    "loss = history_dict['loss']\n",
    "val_loss = history_dict.get('val_loss')\n",
    "\n",
    "epochs = range(1, len(mae) + 1)\n",
    "\n",
    "# MAE\n",
    "plt.figure(figsize=(12, 5))\n",
    "\n",
    "plt.subplot(1, 2, 1)\n",
    "plt.plot(epochs, mae, 'b-', label='Training')\n",
    "if val_mae:\n",
    "    plt.plot(epochs, val_mae, 'r-', label='Validation')\n",
    "plt.title('Model MAE')\n",
    "plt.xlabel('Epoch')\n",
    "plt.ylabel('MAE')\n",
    "plt.legend()\n",
    "\n",
    "# Loss (MSE)\n",
    "plt.subplot(1, 2, 2)\n",
    "plt.plot(epochs, loss, 'b-', label='Training')\n",
    "if val_loss:\n",
    "    plt.plot(epochs, val_loss, 'r-', label='Validation')\n",
    "plt.title('Model MSE')\n",
    "plt.xlabel('Epoch')\n",
    "plt.ylabel('MSE')\n",
    "plt.legend()\n",
    "\n",
    "plt.tight_layout()\n",
    "plt.show()\n"
   ]
  },
  {
   "cell_type": "code",
   "execution_count": 292,
   "id": "b10f2622-c643-411a-8ee6-2f4d6a68cb1a",
   "metadata": {},
   "outputs": [
    {
     "name": "stdout",
     "output_type": "stream",
     "text": [
      "\u001b[1m5/5\u001b[0m \u001b[32m━━━━━━━━━━━━━━━━━━━━\u001b[0m\u001b[37m\u001b[0m \u001b[1m4s\u001b[0m 646ms/step\n"
     ]
    }
   ],
   "source": [
    "y_pred = np.round(model.predict(X_test))"
   ]
  },
  {
   "cell_type": "code",
   "execution_count": 293,
   "id": "ebb72d3b-aa3d-4e48-be68-fcb739652739",
   "metadata": {},
   "outputs": [],
   "source": [
    "quantiles = np.percentile(y, [0, 16.67, 33.33, 50, 66.67, 83.33, 100])"
   ]
  },
  {
   "cell_type": "code",
   "execution_count": 294,
   "id": "849de97e-7b95-4a3c-8411-fde6c817a7db",
   "metadata": {},
   "outputs": [
    {
     "data": {
      "text/plain": [
       "array([  9. ,  43. ,  63. ,  95.5, 142. , 198. , 576. ])"
      ]
     },
     "execution_count": 294,
     "metadata": {},
     "output_type": "execute_result"
    }
   ],
   "source": [
    "quantiles"
   ]
  },
  {
   "cell_type": "code",
   "execution_count": 295,
   "id": "36163fde-eac1-4a6a-91c8-fe59363b1048",
   "metadata": {},
   "outputs": [
    {
     "name": "stdout",
     "output_type": "stream",
     "text": [
      "[[139. 156.]\n",
      " [146. 267.]\n",
      " [ 73.  86.]\n",
      " [ 98. 143.]\n",
      " [ 52.  54.]\n",
      " [ 24.  36.]\n",
      " [ 25.  48.]\n",
      " [ 43.  42.]\n",
      " [ 91. 118.]\n",
      " [194. 281.]\n",
      " [107. 106.]\n",
      " [ 13.  35.]\n",
      " [132. 138.]\n",
      " [193. 251.]\n",
      " [ 66. 123.]\n",
      " [176. 146.]\n",
      " [ 83.  74.]\n",
      " [171. 129.]\n",
      " [ 50.  85.]\n",
      " [204. 176.]\n",
      " [ 49.  64.]\n",
      " [ 23.  28.]\n",
      " [120. 132.]\n",
      " [111.  93.]\n",
      " [206. 298.]\n",
      " [166. 217.]\n",
      " [ 70.  61.]\n",
      " [209. 111.]\n",
      " [ 70.  87.]\n",
      " [ 41.  53.]\n",
      " [ 53.  73.]\n",
      " [105.  94.]\n",
      " [170. 265.]\n",
      " [195. 166.]\n",
      " [ 23.  28.]\n",
      " [121.  68.]\n",
      " [183. 229.]\n",
      " [166. 165.]\n",
      " [ 31.  35.]\n",
      " [ 64.  66.]\n",
      " [ 34.  47.]\n",
      " [158. 132.]\n",
      " [ 39.  60.]\n",
      " [171. 150.]\n",
      " [ 52.  38.]\n",
      " [ 38.  79.]\n",
      " [145. 123.]\n",
      " [ 39.  57.]\n",
      " [ 27.  57.]\n",
      " [ 68.  94.]\n",
      " [ 52.  35.]\n",
      " [ 26.  21.]\n",
      " [ 74. 114.]\n",
      " [165. 203.]\n",
      " [ 18.  28.]\n",
      " [ 51.  51.]\n",
      " [169. 159.]\n",
      " [ 29.  36.]\n",
      " [118. 133.]\n",
      " [160. 155.]\n",
      " [ 89.  97.]\n",
      " [211. 277.]\n",
      " [ 42.  54.]\n",
      " [ 21.  25.]\n",
      " [ 38.  29.]\n",
      " [ 43.  80.]\n",
      " [116. 104.]\n",
      " [123. 107.]\n",
      " [148. 344.]\n",
      " [134. 205.]\n",
      " [ 63.  83.]\n",
      " [163. 132.]\n",
      " [114.  84.]\n",
      " [231. 164.]\n",
      " [ 80. 104.]\n",
      " [199. 142.]\n",
      " [226. 235.]\n",
      " [ 12.  26.]\n",
      " [147. 266.]\n",
      " [101. 106.]\n",
      " [ 30.  44.]\n",
      " [239. 170.]\n",
      " [141.  71.]\n",
      " [ 98.  70.]\n",
      " [140. 209.]\n",
      " [150. 153.]\n",
      " [ 65.  54.]\n",
      " [153. 217.]\n",
      " [146. 136.]\n",
      " [116. 104.]\n",
      " [ 63.  74.]\n",
      " [ 40.  26.]\n",
      " [ 50. 131.]\n",
      " [ 39.  60.]\n",
      " [ 16.  26.]\n",
      " [121. 108.]\n",
      " [ 43.  62.]\n",
      " [145. 139.]\n",
      " [ 46.  48.]\n",
      " [ 86.  86.]\n",
      " [191. 299.]\n",
      " [ 96. 121.]\n",
      " [140. 176.]\n",
      " [ 35.  48.]\n",
      " [ 53.  58.]\n",
      " [ 16.  30.]\n",
      " [122. 166.]\n",
      " [ 28.  43.]\n",
      " [166. 177.]\n",
      " [ 21.  33.]\n",
      " [ 81. 118.]\n",
      " [ 85. 101.]\n",
      " [159. 146.]\n",
      " [ 58.  61.]\n",
      " [219. 144.]\n",
      " [182. 131.]\n",
      " [ 52.  70.]\n",
      " [157. 539.]\n",
      " [189. 243.]\n",
      " [201. 261.]\n",
      " [132. 274.]\n",
      " [ 22.  41.]\n",
      " [100.  96.]\n",
      " [200. 200.]\n",
      " [142.  90.]\n",
      " [ 56. 162.]\n",
      " [ 66.  74.]\n",
      " [115. 110.]\n",
      " [195. 282.]\n",
      " [ 97. 109.]\n",
      " [ 64.  80.]\n",
      " [152. 264.]\n",
      " [116. 106.]\n",
      " [136.  94.]\n",
      " [ 37.  14.]\n",
      " [ 30.  43.]\n",
      " [190. 252.]\n",
      " [ 46.  67.]\n",
      " [ 44.  56.]\n",
      " [ 97. 125.]\n",
      " [220. 125.]\n",
      " [161. 213.]\n",
      " [168. 229.]\n",
      " [115. 168.]]\n"
     ]
    }
   ],
   "source": [
    "y_pred.reshape(len(y_pred), 1)\n",
    "y_test.reshape(len(y_test), 1)\n",
    "print(np.concatenate((y_pred.reshape(len(y_pred), 1), y_test.reshape(len(y_test), 1)), 1))"
   ]
  },
  {
   "cell_type": "code",
   "execution_count": 296,
   "id": "a2c4eb5b-4734-41ec-888f-7a34a8407164",
   "metadata": {},
   "outputs": [
    {
     "data": {
      "text/plain": [
       "0.5397816896438599"
      ]
     },
     "execution_count": 296,
     "metadata": {},
     "output_type": "execute_result"
    }
   ],
   "source": [
    "from sklearn.metrics import r2_score\n",
    "r2_score(y_test, y_pred)"
   ]
  }
 ],
 "metadata": {
  "kernelspec": {
   "display_name": "cnn_e",
   "language": "python",
   "name": "cnn_e"
  },
  "language_info": {
   "codemirror_mode": {
    "name": "ipython",
    "version": 3
   },
   "file_extension": ".py",
   "mimetype": "text/x-python",
   "name": "python",
   "nbconvert_exporter": "python",
   "pygments_lexer": "ipython3",
   "version": "3.11.13"
  }
 },
 "nbformat": 4,
 "nbformat_minor": 5
}
