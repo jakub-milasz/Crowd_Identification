{
 "cells": [
  {
   "cell_type": "code",
   "execution_count": 20,
   "id": "b284c055-a3ba-4c02-bffa-c221282677dc",
   "metadata": {},
   "outputs": [
    {
     "name": "stdout",
     "output_type": "stream",
     "text": [
      "Zapisano liczbę osób dla 400 zdjęć w: ShanghaiTech_train_people_counts.json\n",
      "Zapisano liczbę osób dla 316 zdjęć w: ShanghaiTech_test_people_counts.json\n"
     ]
    }
   ],
   "source": [
    "import os\n",
    "import scipy.io as sio\n",
    "import json\n",
    "\n",
    "def count_people_in_shanghaitech(images_dir, annotations_dir, output_json_path):\n",
    "    \"\"\"\n",
    "    Przetwarza zbiór ShanghaiTech, zapisując liczbę osób na każdym zdjęciu w pliku JSON.\n",
    "    \n",
    "    Args:\n",
    "        images_dir (str): Ścieżka do folderu z obrazami (.jpg).\n",
    "        annotations_dir (str): Ścieżka do folderu z adnotacjami (.mat).\n",
    "        output_json_path (str): Ścieżka do pliku JSON, który zapisze {nazwa_zdjęcia: liczba_osób}.\n",
    "    \"\"\"\n",
    "    image_counts = {}\n",
    "    \n",
    "    for img_name in os.listdir(images_dir):\n",
    "        if not img_name.endswith('.jpg'):\n",
    "            continue\n",
    "        \n",
    "        # Wczytaj adnotacje (punkty osób)\n",
    "        mat_path = os.path.join(annotations_dir, 'GT_' + img_name.replace('.jpg', '.mat')).replace(\"\\\\\", \"/\")\n",
    "        mat = sio.loadmat(mat_path)\n",
    "        points = mat['image_info'][0][0][0][0][0]  # Struktura plików .mat w ShanghaiTech\n",
    "        \n",
    "        # Liczba osób = liczba punktów\n",
    "        num_people = len(points)\n",
    "        image_counts[img_name] = num_people\n",
    "    \n",
    "    # Zapisz wynik w JSON\n",
    "    with open(output_json_path, 'w') as f:\n",
    "        json.dump(image_counts, f, indent=4)\n",
    "    \n",
    "    print(f\"Zapisano liczbę osób dla {len(image_counts)} zdjęć w: {output_json_path}\")\n",
    "\n",
    "# Przykład użycia:\n",
    "count_people_in_shanghaitech(\n",
    "    images_dir=\"ShanghaiTech/part_B/train_data/images\",\n",
    "    annotations_dir=\"ShanghaiTech/part_B/train_data/ground-truth\",\n",
    "    output_json_path=\"ShanghaiTech_train_people_counts.json\"\n",
    ")\n",
    "\n",
    "count_people_in_shanghaitech(\n",
    "    images_dir=\"ShanghaiTech/part_B/test_data/images\",\n",
    "    annotations_dir=\"ShanghaiTech/part_B/test_data/ground-truth\",\n",
    "    output_json_path=\"ShanghaiTech_test_people_counts.json\"\n",
    ")"
   ]
  },
  {
   "cell_type": "code",
   "execution_count": null,
   "id": "2a9591a8-0334-4cfa-a539-3b47cfc23235",
   "metadata": {},
   "outputs": [],
   "source": [
    "import torch\n",
    "from torch.utils.data import Dataset\n",
    "from PIL import Image\n",
    "import json\n",
    "import os\n",
    "\n",
    "class ShanghaiTechDataset(Dataset):\n",
    "    def __init__(self, images_dir, json_counts_path, transform=None):\n",
    "        self.images_dir = images_dir\n",
    "        self.transform = transform\n",
    "        \n",
    "        with open(json_counts_path, 'r') as f:\n",
    "            self.counts = json.load(f)\n",
    "        \n",
    "        self.image_names = list(self.counts.keys())\n",
    "    \n",
    "    def __len__(self):\n",
    "        return len(self.image_names)\n",
    "    \n",
    "    def __getitem__(self, idx):\n",
    "        img_name = self.image_names[idx]\n",
    "        img_path = os.path.join(self.images_dir, img_name)\n",
    "        \n",
    "        image = Image.open(img_path).convert('RGB')\n",
    "        if self.transform:\n",
    "            image = self.transform(image)\n",
    "        \n",
    "        num_people = self.counts[img_name]\n",
    "        return image, torch.tensor(num_people, dtype=torch.float32)  # float32 dla regresji\n",
    "\n",
    "# Przykład użycia:\n",
    "dataset = ShanghaiTechDataset(\n",
    "    images_dir=\"path/to/shanghaitech/images\",\n",
    "    json_counts_path=\"shanghaitech_people_counts.json\",\n",
    "    transform=torchvision.transforms.ToTensor()  # Można dodać augmentację\n",
    ")\n",
    "\n",
    "dataloader = torch.utils.data.DataLoader(dataset, batch_size=32, shuffle=True)"
   ]
  }
 ],
 "metadata": {
  "kernelspec": {
   "display_name": "cnn_e",
   "language": "python",
   "name": "cnn_e"
  },
  "language_info": {
   "codemirror_mode": {
    "name": "ipython",
    "version": 3
   },
   "file_extension": ".py",
   "mimetype": "text/x-python",
   "name": "python",
   "nbconvert_exporter": "python",
   "pygments_lexer": "ipython3",
   "version": "3.11.13"
  }
 },
 "nbformat": 4,
 "nbformat_minor": 5
}
